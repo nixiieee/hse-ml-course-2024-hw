{
 "cells": [
  {
   "cell_type": "markdown",
   "id": "85cebdfa-6bb7-4e10-ab68-e88dee9ac313",
   "metadata": {},
   "source": [
    "# Easy"
   ]
  },
  {
   "cell_type": "code",
   "execution_count": 1,
   "id": "0f7c7822-8634-498d-afac-9c117e16c111",
   "metadata": {},
   "outputs": [
    {
     "name": "stdout",
     "output_type": "stream",
     "text": [
      "0.9400859145376441\n"
     ]
    }
   ],
   "source": [
    "! python hw-7/main.py train --data train.csv --test test.csv --model model.pkl"
   ]
  },
  {
   "cell_type": "code",
   "execution_count": 2,
   "id": "658844a8-f145-46b4-b0f8-0b8e0318c6a0",
   "metadata": {},
   "outputs": [
    {
     "name": "stdout",
     "output_type": "stream",
     "text": [
      "0.9344811095169775\n"
     ]
    }
   ],
   "source": [
    "! python hw-7/main.py train --data train.csv --split 0.2 --model model.pkl"
   ]
  },
  {
   "cell_type": "code",
   "execution_count": 3,
   "id": "d0ea1e64-12c7-4bc1-8e87-a4cfb8634ba9",
   "metadata": {},
   "outputs": [
    {
     "name": "stdout",
     "output_type": "stream",
     "text": [
      "False\n",
      "False\n",
      "True\n",
      "True\n",
      "False\n",
      "True\n",
      "True\n",
      "True\n",
      "True\n",
      "True\n"
     ]
    }
   ],
   "source": [
    "! python main.py predict --model model.pkl --data test_small.csv"
   ]
  },
  {
   "cell_type": "code",
   "execution_count": 4,
   "id": "554faf65-e584-4152-81f2-5c8c48d30d1d",
   "metadata": {},
   "outputs": [
    {
     "name": "stdout",
     "output_type": "stream",
     "text": [
      "True\n"
     ]
    }
   ],
   "source": [
    "! python main.py predict --model model.pkl --data \"amazing\""
   ]
  },
  {
   "cell_type": "markdown",
   "id": "2573408a-b977-4476-bf39-b12f9db1226d",
   "metadata": {},
   "source": [
    "# Medium"
   ]
  },
  {
   "cell_type": "markdown",
   "id": "c84189cc-db04-4365-9d91-b5b5e4d1fbcb",
   "metadata": {},
   "source": [
    "Чтобы pytest выводил принты, добавляем аргумент `-s`"
   ]
  },
  {
   "cell_type": "code",
   "execution_count": 5,
   "id": "3d106a44-9af1-4792-925f-da534aa6fc5a",
   "metadata": {},
   "outputs": [
    {
     "name": "stdout",
     "output_type": "stream",
     "text": [
      "\u001b[1m============================= test session starts ==============================\u001b[0m\n",
      "platform linux -- Python 3.11.7, pytest-7.4.0, pluggy-1.0.0\n",
      "rootdir: /home/nixiiee/Documents/2course/hse-ml-course-2024-hw/notebooks\n",
      "plugins: anyio-4.2.0\n",
      "collected 8 items                                                              \u001b[0m\u001b[1m\n",
      "\n",
      "test_main.py \u001b[32m.\u001b[0m\u001b[32m.\u001b[0m\u001b[32m.\u001b[0m\u001b[32m.\u001b[0m\u001b[32m.\u001b[0m\u001b[32m.\u001b[0m\u001b[32m.\u001b[0m\u001b[32m.\u001b[0m\n",
      "\n",
      "\u001b[32m============================== \u001b[32m\u001b[1m8 passed\u001b[0m\u001b[32m in 21.60s\u001b[0m\u001b[32m ==============================\u001b[0m\n"
     ]
    }
   ],
   "source": [
    "! pytest -s"
   ]
  },
  {
   "cell_type": "markdown",
   "id": "fc3885d9-5741-4cff-9844-3226ee037f30",
   "metadata": {},
   "source": [
    "# Hard"
   ]
  },
  {
   "cell_type": "markdown",
   "id": "a5e8f4dc-e423-4063-ae65-6776b9d4f5cc",
   "metadata": {},
   "source": [
    "![Скриншот бота](bot_screenshot.jpg)"
   ]
  },
  {
   "cell_type": "code",
   "execution_count": null,
   "id": "a7087c6a-c77b-411a-af28-a96ddede417f",
   "metadata": {},
   "outputs": [],
   "source": []
  }
 ],
 "metadata": {
  "kernelspec": {
   "display_name": "Python 3 (ipykernel)",
   "language": "python",
   "name": "python3"
  },
  "language_info": {
   "codemirror_mode": {
    "name": "ipython",
    "version": 3
   },
   "file_extension": ".py",
   "mimetype": "text/x-python",
   "name": "python",
   "nbconvert_exporter": "python",
   "pygments_lexer": "ipython3",
   "version": "3.11.7"
  }
 },
 "nbformat": 4,
 "nbformat_minor": 5
}
