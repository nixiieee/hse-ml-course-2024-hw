{
 "cells": [
  {
   "cell_type": "code",
   "execution_count": 1,
   "id": "742d4b63-2c5d-45d1-bd7b-06dfb02c7680",
   "metadata": {},
   "outputs": [],
   "source": [
    "import pandas as pd\n",
    "import re\n",
    "from sklearn.feature_extraction.text import CountVectorizer, TfidfVectorizer\n",
    "from sklearn.model_selection import train_test_split\n",
    "from sklearn.linear_model import LogisticRegression\n",
    "from sklearn.metrics import f1_score\n",
    "from sklearn.ensemble import RandomForestClassifier\n",
    "from sklearn.neighbors import KNeighborsClassifier\n",
    "from sklearn.pipeline import Pipeline, make_pipeline\n",
    "from catboost import CatBoostClassifier\n",
    "from sklearn.model_selection import GridSearchCV\n",
    "from sklearn.model_selection import RepeatedStratifiedKFold"
   ]
  },
  {
   "cell_type": "markdown",
   "id": "0160c03f-3e7c-45c6-8e5b-11dc1715ddee",
   "metadata": {},
   "source": [
    "# Easy"
   ]
  },
  {
   "cell_type": "code",
   "execution_count": 2,
   "id": "d1b97b2f-b419-4a19-a6d7-661186b7e757",
   "metadata": {},
   "outputs": [
    {
     "data": {
      "text/html": [
       "<div>\n",
       "<style scoped>\n",
       "    .dataframe tbody tr th:only-of-type {\n",
       "        vertical-align: middle;\n",
       "    }\n",
       "\n",
       "    .dataframe tbody tr th {\n",
       "        vertical-align: top;\n",
       "    }\n",
       "\n",
       "    .dataframe thead th {\n",
       "        text-align: right;\n",
       "    }\n",
       "</style>\n",
       "<table border=\"1\" class=\"dataframe\">\n",
       "  <thead>\n",
       "    <tr style=\"text-align: right;\">\n",
       "      <th></th>\n",
       "      <th>published_date</th>\n",
       "      <th>published_platform</th>\n",
       "      <th>rating</th>\n",
       "      <th>type</th>\n",
       "      <th>text</th>\n",
       "      <th>title</th>\n",
       "      <th>helpful_votes</th>\n",
       "    </tr>\n",
       "  </thead>\n",
       "  <tbody>\n",
       "    <tr>\n",
       "      <th>0</th>\n",
       "      <td>2024-03-12T14:41:14-04:00</td>\n",
       "      <td>Desktop</td>\n",
       "      <td>3</td>\n",
       "      <td>review</td>\n",
       "      <td>We used this airline to go from Singapore to L...</td>\n",
       "      <td>Ok</td>\n",
       "      <td>0</td>\n",
       "    </tr>\n",
       "    <tr>\n",
       "      <th>1</th>\n",
       "      <td>2024-03-11T19:39:13-04:00</td>\n",
       "      <td>Desktop</td>\n",
       "      <td>5</td>\n",
       "      <td>review</td>\n",
       "      <td>The service on Singapore Airlines Suites Class...</td>\n",
       "      <td>The service in Suites Class makes one feel lik...</td>\n",
       "      <td>0</td>\n",
       "    </tr>\n",
       "    <tr>\n",
       "      <th>2</th>\n",
       "      <td>2024-03-11T12:20:23-04:00</td>\n",
       "      <td>Desktop</td>\n",
       "      <td>1</td>\n",
       "      <td>review</td>\n",
       "      <td>Booked, paid and received email confirmation f...</td>\n",
       "      <td>Don’t give them your money</td>\n",
       "      <td>0</td>\n",
       "    </tr>\n",
       "    <tr>\n",
       "      <th>3</th>\n",
       "      <td>2024-03-11T07:12:27-04:00</td>\n",
       "      <td>Desktop</td>\n",
       "      <td>5</td>\n",
       "      <td>review</td>\n",
       "      <td>Best airline in the world, seats, food, servic...</td>\n",
       "      <td>Best Airline in the World</td>\n",
       "      <td>0</td>\n",
       "    </tr>\n",
       "    <tr>\n",
       "      <th>4</th>\n",
       "      <td>2024-03-10T05:34:18-04:00</td>\n",
       "      <td>Desktop</td>\n",
       "      <td>2</td>\n",
       "      <td>review</td>\n",
       "      <td>Premium Economy Seating on Singapore Airlines ...</td>\n",
       "      <td>Premium Economy Seating on Singapore Airlines ...</td>\n",
       "      <td>0</td>\n",
       "    </tr>\n",
       "  </tbody>\n",
       "</table>\n",
       "</div>"
      ],
      "text/plain": [
       "              published_date published_platform  rating    type  \\\n",
       "0  2024-03-12T14:41:14-04:00            Desktop       3  review   \n",
       "1  2024-03-11T19:39:13-04:00            Desktop       5  review   \n",
       "2  2024-03-11T12:20:23-04:00            Desktop       1  review   \n",
       "3  2024-03-11T07:12:27-04:00            Desktop       5  review   \n",
       "4  2024-03-10T05:34:18-04:00            Desktop       2  review   \n",
       "\n",
       "                                                text  \\\n",
       "0  We used this airline to go from Singapore to L...   \n",
       "1  The service on Singapore Airlines Suites Class...   \n",
       "2  Booked, paid and received email confirmation f...   \n",
       "3  Best airline in the world, seats, food, servic...   \n",
       "4  Premium Economy Seating on Singapore Airlines ...   \n",
       "\n",
       "                                               title  helpful_votes  \n",
       "0                                                 Ok              0  \n",
       "1  The service in Suites Class makes one feel lik...              0  \n",
       "2                         Don’t give them your money              0  \n",
       "3                          Best Airline in the World              0  \n",
       "4  Premium Economy Seating on Singapore Airlines ...              0  "
      ]
     },
     "execution_count": 2,
     "metadata": {},
     "output_type": "execute_result"
    }
   ],
   "source": [
    "df = pd.read_csv('../data/singapore_airlines_reviews.csv')\n",
    "df.head()"
   ]
  },
  {
   "cell_type": "code",
   "execution_count": 3,
   "id": "dd457002-11d0-4e74-b972-8223c1b0902f",
   "metadata": {},
   "outputs": [],
   "source": [
    "df = df.drop(columns=['type', 'published_date'])\n",
    "df['published_platform'] = (df['published_platform'] == 'Desktop')\n",
    "df['rating'] = (df['rating'] > 3) # будем считать негативными отзывами те, у которых рейтинг <= 3\n",
    "df = df.dropna()"
   ]
  },
  {
   "cell_type": "code",
   "execution_count": 4,
   "id": "c330348c-1089-4657-b970-bdc8723b7460",
   "metadata": {},
   "outputs": [],
   "source": [
    "def preprocess(text):\n",
    "    text = re.sub(r'[^\\w\\s]', '', text).lower()\n",
    "    return text"
   ]
  },
  {
   "cell_type": "code",
   "execution_count": 5,
   "id": "fc865ff5-a04d-4c87-bcdc-c2a5ce1f34e8",
   "metadata": {},
   "outputs": [
    {
     "data": {
      "text/html": [
       "<div>\n",
       "<style scoped>\n",
       "    .dataframe tbody tr th:only-of-type {\n",
       "        vertical-align: middle;\n",
       "    }\n",
       "\n",
       "    .dataframe tbody tr th {\n",
       "        vertical-align: top;\n",
       "    }\n",
       "\n",
       "    .dataframe thead th {\n",
       "        text-align: right;\n",
       "    }\n",
       "</style>\n",
       "<table border=\"1\" class=\"dataframe\">\n",
       "  <thead>\n",
       "    <tr style=\"text-align: right;\">\n",
       "      <th></th>\n",
       "      <th>published_platform</th>\n",
       "      <th>rating</th>\n",
       "      <th>text</th>\n",
       "      <th>title</th>\n",
       "      <th>helpful_votes</th>\n",
       "    </tr>\n",
       "  </thead>\n",
       "  <tbody>\n",
       "    <tr>\n",
       "      <th>0</th>\n",
       "      <td>True</td>\n",
       "      <td>False</td>\n",
       "      <td>We used this airline to go from Singapore to L...</td>\n",
       "      <td>Ok</td>\n",
       "      <td>0</td>\n",
       "    </tr>\n",
       "    <tr>\n",
       "      <th>1</th>\n",
       "      <td>True</td>\n",
       "      <td>True</td>\n",
       "      <td>The service on Singapore Airlines Suites Class...</td>\n",
       "      <td>The service in Suites Class makes one feel lik...</td>\n",
       "      <td>0</td>\n",
       "    </tr>\n",
       "    <tr>\n",
       "      <th>2</th>\n",
       "      <td>True</td>\n",
       "      <td>False</td>\n",
       "      <td>Booked, paid and received email confirmation f...</td>\n",
       "      <td>Don’t give them your money</td>\n",
       "      <td>0</td>\n",
       "    </tr>\n",
       "    <tr>\n",
       "      <th>3</th>\n",
       "      <td>True</td>\n",
       "      <td>True</td>\n",
       "      <td>Best airline in the world, seats, food, servic...</td>\n",
       "      <td>Best Airline in the World</td>\n",
       "      <td>0</td>\n",
       "    </tr>\n",
       "    <tr>\n",
       "      <th>4</th>\n",
       "      <td>True</td>\n",
       "      <td>False</td>\n",
       "      <td>Premium Economy Seating on Singapore Airlines ...</td>\n",
       "      <td>Premium Economy Seating on Singapore Airlines ...</td>\n",
       "      <td>0</td>\n",
       "    </tr>\n",
       "  </tbody>\n",
       "</table>\n",
       "</div>"
      ],
      "text/plain": [
       "   published_platform  rating  \\\n",
       "0                True   False   \n",
       "1                True    True   \n",
       "2                True   False   \n",
       "3                True    True   \n",
       "4                True   False   \n",
       "\n",
       "                                                text  \\\n",
       "0  We used this airline to go from Singapore to L...   \n",
       "1  The service on Singapore Airlines Suites Class...   \n",
       "2  Booked, paid and received email confirmation f...   \n",
       "3  Best airline in the world, seats, food, servic...   \n",
       "4  Premium Economy Seating on Singapore Airlines ...   \n",
       "\n",
       "                                               title  helpful_votes  \n",
       "0                                                 Ok              0  \n",
       "1  The service in Suites Class makes one feel lik...              0  \n",
       "2                         Don’t give them your money              0  \n",
       "3                          Best Airline in the World              0  \n",
       "4  Premium Economy Seating on Singapore Airlines ...              0  "
      ]
     },
     "execution_count": 5,
     "metadata": {},
     "output_type": "execute_result"
    }
   ],
   "source": [
    "df.head()"
   ]
  },
  {
   "cell_type": "code",
   "execution_count": 6,
   "id": "ad6e9be4-b494-48c9-b5d0-ec90213aba2c",
   "metadata": {},
   "outputs": [
    {
     "data": {
      "text/html": [
       "<div>\n",
       "<style scoped>\n",
       "    .dataframe tbody tr th:only-of-type {\n",
       "        vertical-align: middle;\n",
       "    }\n",
       "\n",
       "    .dataframe tbody tr th {\n",
       "        vertical-align: top;\n",
       "    }\n",
       "\n",
       "    .dataframe thead th {\n",
       "        text-align: right;\n",
       "    }\n",
       "</style>\n",
       "<table border=\"1\" class=\"dataframe\">\n",
       "  <thead>\n",
       "    <tr style=\"text-align: right;\">\n",
       "      <th></th>\n",
       "      <th>published_platform</th>\n",
       "      <th>rating</th>\n",
       "      <th>text</th>\n",
       "      <th>title</th>\n",
       "      <th>helpful_votes</th>\n",
       "      <th>text_modified</th>\n",
       "    </tr>\n",
       "  </thead>\n",
       "  <tbody>\n",
       "    <tr>\n",
       "      <th>0</th>\n",
       "      <td>True</td>\n",
       "      <td>False</td>\n",
       "      <td>We used this airline to go from Singapore to L...</td>\n",
       "      <td>Ok</td>\n",
       "      <td>0</td>\n",
       "      <td>ok we used this airline to go from singapore t...</td>\n",
       "    </tr>\n",
       "    <tr>\n",
       "      <th>1</th>\n",
       "      <td>True</td>\n",
       "      <td>True</td>\n",
       "      <td>The service on Singapore Airlines Suites Class...</td>\n",
       "      <td>The service in Suites Class makes one feel lik...</td>\n",
       "      <td>0</td>\n",
       "      <td>the service in suites class makes one feel lik...</td>\n",
       "    </tr>\n",
       "    <tr>\n",
       "      <th>2</th>\n",
       "      <td>True</td>\n",
       "      <td>False</td>\n",
       "      <td>Booked, paid and received email confirmation f...</td>\n",
       "      <td>Don’t give them your money</td>\n",
       "      <td>0</td>\n",
       "      <td>dont give them your money booked paid and rece...</td>\n",
       "    </tr>\n",
       "    <tr>\n",
       "      <th>3</th>\n",
       "      <td>True</td>\n",
       "      <td>True</td>\n",
       "      <td>Best airline in the world, seats, food, servic...</td>\n",
       "      <td>Best Airline in the World</td>\n",
       "      <td>0</td>\n",
       "      <td>best airline in the world best airline in the ...</td>\n",
       "    </tr>\n",
       "    <tr>\n",
       "      <th>4</th>\n",
       "      <td>True</td>\n",
       "      <td>False</td>\n",
       "      <td>Premium Economy Seating on Singapore Airlines ...</td>\n",
       "      <td>Premium Economy Seating on Singapore Airlines ...</td>\n",
       "      <td>0</td>\n",
       "      <td>premium economy seating on singapore airlines ...</td>\n",
       "    </tr>\n",
       "  </tbody>\n",
       "</table>\n",
       "</div>"
      ],
      "text/plain": [
       "   published_platform  rating  \\\n",
       "0                True   False   \n",
       "1                True    True   \n",
       "2                True   False   \n",
       "3                True    True   \n",
       "4                True   False   \n",
       "\n",
       "                                                text  \\\n",
       "0  We used this airline to go from Singapore to L...   \n",
       "1  The service on Singapore Airlines Suites Class...   \n",
       "2  Booked, paid and received email confirmation f...   \n",
       "3  Best airline in the world, seats, food, servic...   \n",
       "4  Premium Economy Seating on Singapore Airlines ...   \n",
       "\n",
       "                                               title  helpful_votes  \\\n",
       "0                                                 Ok              0   \n",
       "1  The service in Suites Class makes one feel lik...              0   \n",
       "2                         Don’t give them your money              0   \n",
       "3                          Best Airline in the World              0   \n",
       "4  Premium Economy Seating on Singapore Airlines ...              0   \n",
       "\n",
       "                                       text_modified  \n",
       "0  ok we used this airline to go from singapore t...  \n",
       "1  the service in suites class makes one feel lik...  \n",
       "2  dont give them your money booked paid and rece...  \n",
       "3  best airline in the world best airline in the ...  \n",
       "4  premium economy seating on singapore airlines ...  "
      ]
     },
     "execution_count": 6,
     "metadata": {},
     "output_type": "execute_result"
    }
   ],
   "source": [
    "df['text_modified'] = df['title'] + ' ' + df['text']\n",
    "df['text_modified'] = df['text_modified'].apply(preprocess)\n",
    "df = df.dropna()\n",
    "df.head()"
   ]
  },
  {
   "cell_type": "code",
   "execution_count": 7,
   "id": "7b77f37e-ca7c-4bae-bc3c-e9d36d4b60bf",
   "metadata": {},
   "outputs": [
    {
     "data": {
      "text/plain": [
       "((7999, 21144), (2000, 21144))"
      ]
     },
     "execution_count": 7,
     "metadata": {},
     "output_type": "execute_result"
    }
   ],
   "source": [
    "train, test = train_test_split(df, test_size=0.2, random_state=42)\n",
    "bow = CountVectorizer()\n",
    "train_x = bow.fit_transform(train['text_modified']).toarray()\n",
    "test_x = bow.transform(test['text_modified']).toarray()\n",
    "train_x.shape, test_x.shape"
   ]
  },
  {
   "cell_type": "code",
   "execution_count": 8,
   "id": "9a32753d-87a8-46b5-910a-088777fda376",
   "metadata": {},
   "outputs": [],
   "source": [
    "train_y = train['rating']\n",
    "test_y = test['rating']"
   ]
  },
  {
   "cell_type": "code",
   "execution_count": 9,
   "id": "6e5f90a6-722b-4443-a5e1-01f8604090c3",
   "metadata": {},
   "outputs": [
    {
     "name": "stderr",
     "output_type": "stream",
     "text": [
      "/home/nixiiee/miniconda3/envs/classical-ml/lib/python3.11/site-packages/sklearn/linear_model/_logistic.py:469: ConvergenceWarning: lbfgs failed to converge (status=1):\n",
      "STOP: TOTAL NO. of ITERATIONS REACHED LIMIT.\n",
      "\n",
      "Increase the number of iterations (max_iter) or scale the data as shown in:\n",
      "    https://scikit-learn.org/stable/modules/preprocessing.html\n",
      "Please also refer to the documentation for alternative solver options:\n",
      "    https://scikit-learn.org/stable/modules/linear_model.html#logistic-regression\n",
      "  n_iter_i = _check_optimize_result(\n"
     ]
    },
    {
     "data": {
      "text/plain": [
       "0.943089430894309"
      ]
     },
     "execution_count": 9,
     "metadata": {},
     "output_type": "execute_result"
    }
   ],
   "source": [
    "model = LogisticRegression(random_state=42)\n",
    "model.fit(train_x, train_y)\n",
    "predicted = model.predict(test_x)\n",
    "f1_score(test_y, predicted)"
   ]
  },
  {
   "cell_type": "markdown",
   "id": "edf881ec-7063-44a9-9560-a438eaaeaa74",
   "metadata": {},
   "source": [
    "# Medium"
   ]
  },
  {
   "cell_type": "code",
   "execution_count": 10,
   "id": "a63a5cca-83ac-4559-8e4b-03198897f757",
   "metadata": {},
   "outputs": [
    {
     "name": "stdout",
     "output_type": "stream",
     "text": [
      "Requirement already satisfied: nltk in /home/nixiiee/miniconda3/envs/classical-ml/lib/python3.11/site-packages (3.8.1)\n",
      "Requirement already satisfied: click in /home/nixiiee/miniconda3/envs/classical-ml/lib/python3.11/site-packages (from nltk) (8.1.7)\n",
      "Requirement already satisfied: joblib in /home/nixiiee/miniconda3/envs/classical-ml/lib/python3.11/site-packages (from nltk) (1.3.2)\n",
      "Requirement already satisfied: regex>=2021.8.3 in /home/nixiiee/miniconda3/envs/classical-ml/lib/python3.11/site-packages (from nltk) (2023.12.25)\n",
      "Requirement already satisfied: tqdm in /home/nixiiee/miniconda3/envs/classical-ml/lib/python3.11/site-packages (from nltk) (4.66.1)\n"
     ]
    }
   ],
   "source": [
    "!pip install nltk"
   ]
  },
  {
   "cell_type": "code",
   "execution_count": 11,
   "id": "efe0da80-bef8-46b0-adf9-d2b5f8a59a8a",
   "metadata": {},
   "outputs": [],
   "source": [
    "import nltk\n",
    "from nltk.corpus import stopwords\n",
    "from nltk.tokenize import word_tokenize\n",
    "from nltk.stem.porter import *\n",
    " \n",
    "nltk.download('stopwords', quiet=True)\n",
    "nltk.download('punkt', quiet=True)\n",
    "\n",
    "stemmer = PorterStemmer()\n",
    "stop_words = set(stopwords.words('english'))\n",
    "\n",
    "def stem_delete_stopwords(text):\n",
    "    text = re.sub(r'[^\\w\\s]', '', text).lower()\n",
    "    text = ' '.join(map(stemmer.stem, text.split(' ')))\n",
    "    word_tokens = word_tokenize(text)\n",
    "    filtered_text = [w for w in word_tokens if not w in stop_words]\n",
    "    return ' '.join(filtered_text)"
   ]
  },
  {
   "cell_type": "code",
   "execution_count": 12,
   "id": "8f77bd50-84ce-4cab-9ce0-09cc4154e21d",
   "metadata": {},
   "outputs": [
    {
     "data": {
      "text/html": [
       "<div>\n",
       "<style scoped>\n",
       "    .dataframe tbody tr th:only-of-type {\n",
       "        vertical-align: middle;\n",
       "    }\n",
       "\n",
       "    .dataframe tbody tr th {\n",
       "        vertical-align: top;\n",
       "    }\n",
       "\n",
       "    .dataframe thead th {\n",
       "        text-align: right;\n",
       "    }\n",
       "</style>\n",
       "<table border=\"1\" class=\"dataframe\">\n",
       "  <thead>\n",
       "    <tr style=\"text-align: right;\">\n",
       "      <th></th>\n",
       "      <th>published_platform</th>\n",
       "      <th>rating</th>\n",
       "      <th>helpful_votes</th>\n",
       "      <th>text_modified</th>\n",
       "    </tr>\n",
       "  </thead>\n",
       "  <tbody>\n",
       "    <tr>\n",
       "      <th>0</th>\n",
       "      <td>True</td>\n",
       "      <td>False</td>\n",
       "      <td>0</td>\n",
       "      <td>ok use thi airlin go singapor london heathrow ...</td>\n",
       "    </tr>\n",
       "    <tr>\n",
       "      <th>1</th>\n",
       "      <td>True</td>\n",
       "      <td>True</td>\n",
       "      <td>0</td>\n",
       "      <td>servic suit class make one feel like vip servi...</td>\n",
       "    </tr>\n",
       "    <tr>\n",
       "      <th>2</th>\n",
       "      <td>True</td>\n",
       "      <td>False</td>\n",
       "      <td>0</td>\n",
       "      <td>dont give money book paid receiv email confirm...</td>\n",
       "    </tr>\n",
       "    <tr>\n",
       "      <th>3</th>\n",
       "      <td>True</td>\n",
       "      <td>True</td>\n",
       "      <td>0</td>\n",
       "      <td>best airlin world best airlin world seat food ...</td>\n",
       "    </tr>\n",
       "    <tr>\n",
       "      <th>4</th>\n",
       "      <td>True</td>\n",
       "      <td>False</td>\n",
       "      <td>0</td>\n",
       "      <td>premium economi seat singapor airlin worth mon...</td>\n",
       "    </tr>\n",
       "  </tbody>\n",
       "</table>\n",
       "</div>"
      ],
      "text/plain": [
       "   published_platform  rating  helpful_votes  \\\n",
       "0                True   False              0   \n",
       "1                True    True              0   \n",
       "2                True   False              0   \n",
       "3                True    True              0   \n",
       "4                True   False              0   \n",
       "\n",
       "                                       text_modified  \n",
       "0  ok use thi airlin go singapor london heathrow ...  \n",
       "1  servic suit class make one feel like vip servi...  \n",
       "2  dont give money book paid receiv email confirm...  \n",
       "3  best airlin world best airlin world seat food ...  \n",
       "4  premium economi seat singapor airlin worth mon...  "
      ]
     },
     "execution_count": 12,
     "metadata": {},
     "output_type": "execute_result"
    }
   ],
   "source": [
    "df['text_modified'] = df['text_modified'].apply(stem_delete_stopwords)\n",
    "df.drop(inplace=True, columns=['text', 'title'])\n",
    "df.head()"
   ]
  },
  {
   "cell_type": "code",
   "execution_count": 13,
   "id": "040ce424-4724-4e06-b207-5246bec72664",
   "metadata": {},
   "outputs": [
    {
     "data": {
      "text/plain": [
       "(7999, 2000)"
      ]
     },
     "execution_count": 13,
     "metadata": {},
     "output_type": "execute_result"
    }
   ],
   "source": [
    "train, test = train_test_split(df, test_size=0.2, random_state=42)\n",
    "train.shape[0], test.shape[0]"
   ]
  },
  {
   "cell_type": "code",
   "execution_count": 14,
   "id": "ba21f4ea-2bdf-46da-8191-fd3e98a194b5",
   "metadata": {},
   "outputs": [
    {
     "name": "stdout",
     "output_type": "stream",
     "text": [
      "Learning rate set to 0.025034\n",
      "0:\tlearn: 0.6777899\ttotal: 78.1ms\tremaining: 1m 18s\n",
      "100:\tlearn: 0.3390364\ttotal: 2.19s\tremaining: 19.5s\n",
      "200:\tlearn: 0.2848477\ttotal: 4.29s\tremaining: 17.1s\n",
      "300:\tlearn: 0.2565835\ttotal: 6.39s\tremaining: 14.8s\n",
      "400:\tlearn: 0.2359158\ttotal: 8.46s\tremaining: 12.6s\n",
      "500:\tlearn: 0.2192603\ttotal: 10.5s\tremaining: 10.5s\n",
      "600:\tlearn: 0.2070765\ttotal: 12.6s\tremaining: 8.39s\n",
      "700:\tlearn: 0.1984068\ttotal: 14.7s\tremaining: 6.29s\n",
      "800:\tlearn: 0.1895066\ttotal: 16.8s\tremaining: 4.17s\n",
      "900:\tlearn: 0.1823852\ttotal: 18.8s\tremaining: 2.07s\n",
      "999:\tlearn: 0.1757785\ttotal: 20.9s\tremaining: 0us\n",
      "Learning rate set to 0.025034\n",
      "0:\tlearn: 0.6760271\ttotal: 44.6ms\tremaining: 44.6s\n",
      "100:\tlearn: 0.3299936\ttotal: 3.97s\tremaining: 35.4s\n",
      "200:\tlearn: 0.2784480\ttotal: 7.87s\tremaining: 31.3s\n",
      "300:\tlearn: 0.2506997\ttotal: 11.9s\tremaining: 27.5s\n",
      "400:\tlearn: 0.2293231\ttotal: 15.7s\tremaining: 23.5s\n",
      "500:\tlearn: 0.2103704\ttotal: 19.9s\tremaining: 19.8s\n",
      "600:\tlearn: 0.1961157\ttotal: 24.2s\tremaining: 16.1s\n",
      "700:\tlearn: 0.1838960\ttotal: 28.2s\tremaining: 12s\n",
      "800:\tlearn: 0.1746093\ttotal: 32.3s\tremaining: 8.03s\n",
      "900:\tlearn: 0.1659372\ttotal: 36.6s\tremaining: 4.02s\n",
      "999:\tlearn: 0.1582649\ttotal: 41.2s\tremaining: 0us\n"
     ]
    }
   ],
   "source": [
    "fit_results = []\n",
    "\n",
    "x_train = train['text_modified']\n",
    "x_test = test['text_modified']\n",
    "y_train = train['rating']\n",
    "y_test = test['rating']\n",
    "\n",
    "for vectorizer in [CountVectorizer(), TfidfVectorizer()]:\n",
    "    for model in [LogisticRegression(random_state=42), RandomForestClassifier(random_state=42), \n",
    "                  KNeighborsClassifier(), CatBoostClassifier(metric_period=100, random_state=42)]:\n",
    "        pipeline = Pipeline(\n",
    "            [\n",
    "                (\"vectorizer\", vectorizer),\n",
    "                (\"model\", model),\n",
    "            ]\n",
    "        )\n",
    "        pipeline.fit(x_train, y_train)\n",
    "        y_pred = pipeline.predict(x_test)\n",
    "        metric = f1_score(y_pred, y_test)\n",
    "        fit_results.append(\n",
    "            {\n",
    "                'vectorizer': vectorizer.__class__.__name__,\n",
    "                'model': model.__class__.__name__,\n",
    "                'f1': metric,\n",
    "            }\n",
    "        )\n",
    "\n",
    "fit_results = pd.DataFrame(fit_results)"
   ]
  },
  {
   "cell_type": "code",
   "execution_count": 15,
   "id": "13e20bce-9404-49c4-8129-de3d91517a89",
   "metadata": {},
   "outputs": [
    {
     "data": {
      "text/html": [
       "<div>\n",
       "<style scoped>\n",
       "    .dataframe tbody tr th:only-of-type {\n",
       "        vertical-align: middle;\n",
       "    }\n",
       "\n",
       "    .dataframe tbody tr th {\n",
       "        vertical-align: top;\n",
       "    }\n",
       "\n",
       "    .dataframe thead th {\n",
       "        text-align: right;\n",
       "    }\n",
       "</style>\n",
       "<table border=\"1\" class=\"dataframe\">\n",
       "  <thead>\n",
       "    <tr style=\"text-align: right;\">\n",
       "      <th></th>\n",
       "      <th>vectorizer</th>\n",
       "      <th>model</th>\n",
       "      <th>f1</th>\n",
       "    </tr>\n",
       "  </thead>\n",
       "  <tbody>\n",
       "    <tr>\n",
       "      <th>4</th>\n",
       "      <td>TfidfVectorizer</td>\n",
       "      <td>LogisticRegression</td>\n",
       "      <td>0.942237</td>\n",
       "    </tr>\n",
       "    <tr>\n",
       "      <th>3</th>\n",
       "      <td>CountVectorizer</td>\n",
       "      <td>CatBoostClassifier</td>\n",
       "      <td>0.941332</td>\n",
       "    </tr>\n",
       "    <tr>\n",
       "      <th>7</th>\n",
       "      <td>TfidfVectorizer</td>\n",
       "      <td>CatBoostClassifier</td>\n",
       "      <td>0.939526</td>\n",
       "    </tr>\n",
       "    <tr>\n",
       "      <th>0</th>\n",
       "      <td>CountVectorizer</td>\n",
       "      <td>LogisticRegression</td>\n",
       "      <td>0.937754</td>\n",
       "    </tr>\n",
       "    <tr>\n",
       "      <th>1</th>\n",
       "      <td>CountVectorizer</td>\n",
       "      <td>RandomForestClassifier</td>\n",
       "      <td>0.915601</td>\n",
       "    </tr>\n",
       "    <tr>\n",
       "      <th>5</th>\n",
       "      <td>TfidfVectorizer</td>\n",
       "      <td>RandomForestClassifier</td>\n",
       "      <td>0.913722</td>\n",
       "    </tr>\n",
       "    <tr>\n",
       "      <th>6</th>\n",
       "      <td>TfidfVectorizer</td>\n",
       "      <td>KNeighborsClassifier</td>\n",
       "      <td>0.895244</td>\n",
       "    </tr>\n",
       "    <tr>\n",
       "      <th>2</th>\n",
       "      <td>CountVectorizer</td>\n",
       "      <td>KNeighborsClassifier</td>\n",
       "      <td>0.854777</td>\n",
       "    </tr>\n",
       "  </tbody>\n",
       "</table>\n",
       "</div>"
      ],
      "text/plain": [
       "        vectorizer                   model        f1\n",
       "4  TfidfVectorizer      LogisticRegression  0.942237\n",
       "3  CountVectorizer      CatBoostClassifier  0.941332\n",
       "7  TfidfVectorizer      CatBoostClassifier  0.939526\n",
       "0  CountVectorizer      LogisticRegression  0.937754\n",
       "1  CountVectorizer  RandomForestClassifier  0.915601\n",
       "5  TfidfVectorizer  RandomForestClassifier  0.913722\n",
       "6  TfidfVectorizer    KNeighborsClassifier  0.895244\n",
       "2  CountVectorizer    KNeighborsClassifier  0.854777"
      ]
     },
     "execution_count": 15,
     "metadata": {},
     "output_type": "execute_result"
    }
   ],
   "source": [
    "fit_results.sort_values('f1', ascending=False)"
   ]
  },
  {
   "cell_type": "markdown",
   "id": "8d624c9f-58e5-4b99-ab8c-2232eaf3113a",
   "metadata": {},
   "source": [
    "Tf-idf, вероятно, работает хорошо в силу того, что в текстах довольно много повторяющихся слов. Логистическая регрессия помогает выделить наиболее часто/редко встречающиеся, которые сильнее всего влияют на результат. CatBoost тоже хорошо умеет отделять значительные фичи от незначительных в силу своего сложного устройства.\n",
    "\n",
    "Переберем несколько гиперпараметров лучшей модели."
   ]
  },
  {
   "cell_type": "code",
   "execution_count": 16,
   "id": "a7fc30ee-6db8-4155-b9ea-ddc2859c7e9f",
   "metadata": {},
   "outputs": [
    {
     "name": "stdout",
     "output_type": "stream",
     "text": [
      "Best: 0.942557 using {'C': 10, 'penalty': 'l2', 'solver': 'lbfgs'}\n",
      "0.934872 (0.005965) with: {'C': 100, 'penalty': 'l2', 'solver': 'newton-cg'}\n",
      "0.935040 (0.005247) with: {'C': 100, 'penalty': 'l2', 'solver': 'lbfgs'}\n",
      "0.934872 (0.005957) with: {'C': 100, 'penalty': 'l2', 'solver': 'liblinear'}\n",
      "0.942119 (0.006152) with: {'C': 10, 'penalty': 'l2', 'solver': 'newton-cg'}\n",
      "0.942557 (0.005830) with: {'C': 10, 'penalty': 'l2', 'solver': 'lbfgs'}\n",
      "0.942142 (0.006013) with: {'C': 10, 'penalty': 'l2', 'solver': 'liblinear'}\n",
      "0.941242 (0.005341) with: {'C': 1.0, 'penalty': 'l2', 'solver': 'newton-cg'}\n",
      "0.941282 (0.005739) with: {'C': 1.0, 'penalty': 'l2', 'solver': 'lbfgs'}\n",
      "0.941330 (0.005374) with: {'C': 1.0, 'penalty': 'l2', 'solver': 'liblinear'}\n",
      "0.896863 (0.005550) with: {'C': 0.1, 'penalty': 'l2', 'solver': 'newton-cg'}\n",
      "0.898000 (0.005797) with: {'C': 0.1, 'penalty': 'l2', 'solver': 'lbfgs'}\n",
      "0.898497 (0.005933) with: {'C': 0.1, 'penalty': 'l2', 'solver': 'liblinear'}\n",
      "0.850029 (0.000233) with: {'C': 0.01, 'penalty': 'l2', 'solver': 'newton-cg'}\n",
      "0.850029 (0.000233) with: {'C': 0.01, 'penalty': 'l2', 'solver': 'lbfgs'}\n",
      "0.850029 (0.000233) with: {'C': 0.01, 'penalty': 'l2', 'solver': 'liblinear'}\n"
     ]
    }
   ],
   "source": [
    "X = df['text_modified']\n",
    "y = df['rating']\n",
    "\n",
    "solvers = ['newton-cg', 'lbfgs', 'liblinear']\n",
    "penalty = ['l2']\n",
    "c_values = [100, 10, 1.0, 0.1, 0.01]\n",
    "\n",
    "grid = dict(solver=solvers,penalty=penalty,C=c_values)\n",
    "cv = RepeatedStratifiedKFold(n_splits=10, n_repeats=3, random_state=1)\n",
    "\n",
    "clf = make_pipeline(TfidfVectorizer(), \n",
    "                    GridSearchCV(estimator=LogisticRegression(random_state=42),\n",
    "                                 param_grid=grid,\n",
    "                                 cv=cv,\n",
    "                                 n_jobs=-1,\n",
    "                                 scoring='f1',\n",
    "                                 error_score=0))\n",
    "\n",
    "grid_result = clf.fit(X, y)['gridsearchcv']\n",
    "print(\"Best: %f using %s\" % (grid_result.best_score_, grid_result.best_params_))\n",
    "means = grid_result.cv_results_['mean_test_score']\n",
    "stds = grid_result.cv_results_['std_test_score']\n",
    "params = grid_result.cv_results_['params']\n",
    "for mean, stdev, param in zip(means, stds, params):\n",
    "    print(\"%f (%f) with: %r\" % (mean, stdev, param))"
   ]
  },
  {
   "cell_type": "markdown",
   "id": "2a2e901f-dabe-4534-88a8-6f70deaf7cb6",
   "metadata": {},
   "source": [
    "Лучше всех оказалась модель с дефолтными параметрами"
   ]
  },
  {
   "cell_type": "code",
   "execution_count": 17,
   "id": "93dc4421-5d7a-43f0-b577-46352a94c524",
   "metadata": {},
   "outputs": [
    {
     "data": {
      "text/plain": [
       "array([ True, False])"
      ]
     },
     "execution_count": 17,
     "metadata": {},
     "output_type": "execute_result"
    }
   ],
   "source": [
    "def custom_test(to_score, clf):\n",
    "    to_score = map(stem_delete_stopwords, to_score)\n",
    "    return clf.predict(to_score)\n",
    "    \n",
    "model = grid_result.best_estimator_\n",
    "clf = Pipeline(\n",
    "            [\n",
    "                (\"vectorizer\", TfidfVectorizer()),\n",
    "                (\"model\", model),\n",
    "            ]\n",
    "        )\n",
    "clf.fit(X, y)\n",
    "\n",
    "to_score = ['The trip was amazing thanks to wonderful service of this aircompany', # positive\n",
    "            'It was awful. The chairs where uncomfortable. The food was cold and completely uneatable, although I paid 1000$ for premium ticket.'] # negative\n",
    "\n",
    "custom_test(to_score, clf)"
   ]
  },
  {
   "cell_type": "markdown",
   "id": "473375a3-5130-48eb-9296-8002d87d528f",
   "metadata": {},
   "source": [
    "Все верно"
   ]
  },
  {
   "cell_type": "markdown",
   "id": "67777396-f3d2-4a87-9d08-2f9eea6a6636",
   "metadata": {},
   "source": [
    "# Hard"
   ]
  },
  {
   "cell_type": "markdown",
   "id": "d5965374-478a-4ccd-90b7-03ac29aa5989",
   "metadata": {},
   "source": [
    "Посмотрим на коэффициенты модели, которая она присваивала словам, и выберем самые \"позитивные\" и \"негативные\""
   ]
  },
  {
   "cell_type": "code",
   "execution_count": 18,
   "id": "902973b8-efdf-474f-8074-cc6b629406ad",
   "metadata": {},
   "outputs": [],
   "source": [
    "K = 20\n",
    "coefs = clf[1].coef_.tolist()[0]\n",
    "res_min = sorted(range(len(coefs)), key=lambda sub: coefs[sub])[:K]\n",
    "res_max = sorted(range(len(coefs)), key=lambda sub: coefs[sub])[len(coefs)-K:]"
   ]
  },
  {
   "cell_type": "code",
   "execution_count": 19,
   "id": "03bd64ad-df20-4dee-8a58-e6039827c50d",
   "metadata": {},
   "outputs": [
    {
     "name": "stdout",
     "output_type": "stream",
     "text": [
      "terribl\n",
      "worst\n",
      "disappoint\n",
      "poor\n",
      "uncomfort\n",
      "averag\n",
      "bad\n",
      "ago\n",
      "usualservic\n",
      "limit\n",
      "dont\n",
      "disapoint\n",
      "yet\n",
      "old\n",
      "sorri\n",
      "horribl\n",
      "basic\n",
      "said\n",
      "milk\n",
      "aw\n",
      "\n",
      "enjoy\n",
      "easi\n",
      "outstand\n",
      "reliabl\n",
      "perfect\n",
      "wonder\n",
      "profession\n",
      "good\n",
      "thank\n",
      "love\n",
      "pleasant\n",
      "fantast\n",
      "plenti\n",
      "courteou\n",
      "alway\n",
      "comfort\n",
      "amaz\n",
      "great\n",
      "best\n",
      "excel\n"
     ]
    }
   ],
   "source": [
    "vocab = clf[0].vocabulary_ # слову сопоставляется индекс\n",
    "vocab = {y: x for x, y in vocab.items()} # меняем key и value местами, чтобы по индексу получать слово\n",
    "for id in res_min:\n",
    "    print(vocab[id])\n",
    "print()\n",
    "for id in res_max:\n",
    "    print(vocab[id])"
   ]
  },
  {
   "cell_type": "markdown",
   "id": "9ac45f75-ffb3-453d-884f-924f25361127",
   "metadata": {},
   "source": [
    "Идея: в позитивных отзывах попытаться использовать максимальное количество слов, которые наиболее сильно влияют на то, что текст будет отнесен к негативному классу и не использовать наиболее \"позитивные\" слова, и наоборот."
   ]
  },
  {
   "cell_type": "code",
   "execution_count": 20,
   "id": "e29c3677-0443-422d-a6fa-7c963cc0a489",
   "metadata": {},
   "outputs": [
    {
     "data": {
      "text/plain": [
       "array([ True,  True,  True,  True,  True])"
      ]
     },
     "execution_count": 20,
     "metadata": {},
     "output_type": "execute_result"
    }
   ],
   "source": [
    "# negative\n",
    "neg_reviews = [\n",
    "    \"Despite Singapore Airlines' reputation for reliability, my recent flight was marred by a noticeable lack of professionalism from the staff.\",\n",
    "    \"Despite the excellence Singapore Airlines is known for, my recent experience fell short of the expected courtesy from staff, leaving much to be desired.\",\n",
    "    \"The promise of a pleasant journey with Singapore Airlines was overshadowed by frequent delays and discomfort throughout the flight.\",\n",
    "    \"In spite of Singapore Airlines' esteemed reputation, my recent journey was marred by unforeseen delays and a noticeable absence of professionalism from the crew, leaving much to be desired.\",\n",
    "    \"While Singapore Airlines strives for greatness, my recent flight raised doubts about their reliability and overall quality of service.\"\n",
    "]\n",
    "\n",
    "custom_test(neg_reviews, clf)"
   ]
  },
  {
   "cell_type": "code",
   "execution_count": 21,
   "id": "68a5acd3-9eae-4b81-8a0b-98ff438d9b8e",
   "metadata": {},
   "outputs": [
    {
     "data": {
      "text/plain": [
       "array([False, False, False, False, False])"
      ]
     },
     "execution_count": 21,
     "metadata": {},
     "output_type": "execute_result"
    }
   ],
   "source": [
    "# positive\n",
    "pos_reviews = [\n",
    "    \"Flying with Singapore Airlines was a breath of fresh air compared to my previous terrible experiences with other airlines, the service was top-notch, leaving me pleasantly surprised.\",\n",
    "    \"Despite my past disappointments with air travel, Singapore Airlines surpassed all expectations with their service and attention to detail.\",\n",
    "    \"After enduring numerous uncomfortable flights in the past, I was hesitant to book with Singapore Airlines, however, their exceptional service and attention to detail made this journey far from average.\",\n",
    "    \"Despite my worries, my flight with Singapore Airlines was anything but terrible; in fact, it was quite the opposite. The exceptional service surpassed my expectations and left me pleasantly surprised.\",\n",
    "    \"After years of disappointing flights, I was surprised by Singapore Airlines' exceptional service.\"\n",
    "]\n",
    "\n",
    "\n",
    "custom_test(pos_reviews, clf)"
   ]
  },
  {
   "cell_type": "code",
   "execution_count": null,
   "id": "01a5ccc4-13b8-41f5-b502-baf409c9262b",
   "metadata": {},
   "outputs": [],
   "source": []
  }
 ],
 "metadata": {
  "kernelspec": {
   "display_name": "Python 3 (ipykernel)",
   "language": "python",
   "name": "python3"
  },
  "language_info": {
   "codemirror_mode": {
    "name": "ipython",
    "version": 3
   },
   "file_extension": ".py",
   "mimetype": "text/x-python",
   "name": "python",
   "nbconvert_exporter": "python",
   "pygments_lexer": "ipython3",
   "version": "3.11.7"
  }
 },
 "nbformat": 4,
 "nbformat_minor": 5
}
