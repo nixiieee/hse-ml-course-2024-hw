{
 "cells": [
  {
   "cell_type": "code",
   "execution_count": 1,
   "id": "6e516a54-63e3-464c-9cf4-742eac06a11f",
   "metadata": {},
   "outputs": [
    {
     "name": "stderr",
     "output_type": "stream",
     "text": [
      "/tmp/ipykernel_24310/38621023.py:1: DeprecationWarning: \n",
      "Pyarrow will become a required dependency of pandas in the next major release of pandas (pandas 3.0),\n",
      "(to allow more performant data types, such as the Arrow string type, and better interoperability with other libraries)\n",
      "but was not found to be installed on your system.\n",
      "If this would cause problems for you,\n",
      "please provide us feedback at https://github.com/pandas-dev/pandas/issues/54466\n",
      "        \n",
      "  import pandas as pd\n"
     ]
    }
   ],
   "source": [
    "import pandas as pd\n",
    "import numpy as np\n",
    "from scipy.stats import ttest_ind\n",
    "\n",
    "from sklearn.tree import DecisionTreeClassifier\n",
    "from sklearn.ensemble import RandomForestClassifier\n",
    "from sklearn.metrics import r2_score\n",
    "from sklearn.model_selection import train_test_split\n",
    "from sklearn.model_selection import GridSearchCV"
   ]
  },
  {
   "cell_type": "markdown",
   "id": "6467d177-60a7-406b-a7ec-9dd3179454ea",
   "metadata": {},
   "source": [
    "# Easy"
   ]
  },
  {
   "cell_type": "code",
   "execution_count": 2,
   "id": "3a759fe0-5178-4e39-b86a-bfd32540cb28",
   "metadata": {},
   "outputs": [
    {
     "data": {
      "text/html": [
       "<div>\n",
       "<style scoped>\n",
       "    .dataframe tbody tr th:only-of-type {\n",
       "        vertical-align: middle;\n",
       "    }\n",
       "\n",
       "    .dataframe tbody tr th {\n",
       "        vertical-align: top;\n",
       "    }\n",
       "\n",
       "    .dataframe thead th {\n",
       "        text-align: right;\n",
       "    }\n",
       "</style>\n",
       "<table border=\"1\" class=\"dataframe\">\n",
       "  <thead>\n",
       "    <tr style=\"text-align: right;\">\n",
       "      <th></th>\n",
       "      <th>model</th>\n",
       "      <th>year</th>\n",
       "      <th>price</th>\n",
       "      <th>transmission</th>\n",
       "      <th>mileage</th>\n",
       "      <th>fuelType</th>\n",
       "      <th>tax</th>\n",
       "      <th>mpg</th>\n",
       "      <th>engineSize</th>\n",
       "    </tr>\n",
       "  </thead>\n",
       "  <tbody>\n",
       "    <tr>\n",
       "      <th>0</th>\n",
       "      <td>A1</td>\n",
       "      <td>2017</td>\n",
       "      <td>12500</td>\n",
       "      <td>Manual</td>\n",
       "      <td>15735</td>\n",
       "      <td>Petrol</td>\n",
       "      <td>150</td>\n",
       "      <td>55.4</td>\n",
       "      <td>1.4</td>\n",
       "    </tr>\n",
       "    <tr>\n",
       "      <th>1</th>\n",
       "      <td>A6</td>\n",
       "      <td>2016</td>\n",
       "      <td>16500</td>\n",
       "      <td>Automatic</td>\n",
       "      <td>36203</td>\n",
       "      <td>Diesel</td>\n",
       "      <td>20</td>\n",
       "      <td>64.2</td>\n",
       "      <td>2.0</td>\n",
       "    </tr>\n",
       "    <tr>\n",
       "      <th>2</th>\n",
       "      <td>A1</td>\n",
       "      <td>2016</td>\n",
       "      <td>11000</td>\n",
       "      <td>Manual</td>\n",
       "      <td>29946</td>\n",
       "      <td>Petrol</td>\n",
       "      <td>30</td>\n",
       "      <td>55.4</td>\n",
       "      <td>1.4</td>\n",
       "    </tr>\n",
       "    <tr>\n",
       "      <th>3</th>\n",
       "      <td>A4</td>\n",
       "      <td>2017</td>\n",
       "      <td>16800</td>\n",
       "      <td>Automatic</td>\n",
       "      <td>25952</td>\n",
       "      <td>Diesel</td>\n",
       "      <td>145</td>\n",
       "      <td>67.3</td>\n",
       "      <td>2.0</td>\n",
       "    </tr>\n",
       "    <tr>\n",
       "      <th>4</th>\n",
       "      <td>A3</td>\n",
       "      <td>2019</td>\n",
       "      <td>17300</td>\n",
       "      <td>Manual</td>\n",
       "      <td>1998</td>\n",
       "      <td>Petrol</td>\n",
       "      <td>145</td>\n",
       "      <td>49.6</td>\n",
       "      <td>1.0</td>\n",
       "    </tr>\n",
       "  </tbody>\n",
       "</table>\n",
       "</div>"
      ],
      "text/plain": [
       "  model  year  price transmission  mileage fuelType  tax   mpg  engineSize\n",
       "0    A1  2017  12500       Manual    15735   Petrol  150  55.4         1.4\n",
       "1    A6  2016  16500    Automatic    36203   Diesel   20  64.2         2.0\n",
       "2    A1  2016  11000       Manual    29946   Petrol   30  55.4         1.4\n",
       "3    A4  2017  16800    Automatic    25952   Diesel  145  67.3         2.0\n",
       "4    A3  2019  17300       Manual     1998   Petrol  145  49.6         1.0"
      ]
     },
     "execution_count": 2,
     "metadata": {},
     "output_type": "execute_result"
    }
   ],
   "source": [
    "df = pd.read_csv('../data/audi.csv')\n",
    "df.head()"
   ]
  },
  {
   "cell_type": "code",
   "execution_count": 3,
   "id": "10099cb4-64fc-4a59-a2c6-bdcfb91918a3",
   "metadata": {},
   "outputs": [
    {
     "data": {
      "text/html": [
       "<div>\n",
       "<style scoped>\n",
       "    .dataframe tbody tr th:only-of-type {\n",
       "        vertical-align: middle;\n",
       "    }\n",
       "\n",
       "    .dataframe tbody tr th {\n",
       "        vertical-align: top;\n",
       "    }\n",
       "\n",
       "    .dataframe thead th {\n",
       "        text-align: right;\n",
       "    }\n",
       "</style>\n",
       "<table border=\"1\" class=\"dataframe\">\n",
       "  <thead>\n",
       "    <tr style=\"text-align: right;\">\n",
       "      <th></th>\n",
       "      <th>year</th>\n",
       "      <th>price</th>\n",
       "      <th>mileage</th>\n",
       "      <th>tax</th>\n",
       "      <th>mpg</th>\n",
       "      <th>engineSize</th>\n",
       "    </tr>\n",
       "  </thead>\n",
       "  <tbody>\n",
       "    <tr>\n",
       "      <th>0</th>\n",
       "      <td>2017</td>\n",
       "      <td>12500</td>\n",
       "      <td>15735</td>\n",
       "      <td>150</td>\n",
       "      <td>55.4</td>\n",
       "      <td>1.4</td>\n",
       "    </tr>\n",
       "    <tr>\n",
       "      <th>1</th>\n",
       "      <td>2016</td>\n",
       "      <td>16500</td>\n",
       "      <td>36203</td>\n",
       "      <td>20</td>\n",
       "      <td>64.2</td>\n",
       "      <td>2.0</td>\n",
       "    </tr>\n",
       "    <tr>\n",
       "      <th>2</th>\n",
       "      <td>2016</td>\n",
       "      <td>11000</td>\n",
       "      <td>29946</td>\n",
       "      <td>30</td>\n",
       "      <td>55.4</td>\n",
       "      <td>1.4</td>\n",
       "    </tr>\n",
       "    <tr>\n",
       "      <th>3</th>\n",
       "      <td>2017</td>\n",
       "      <td>16800</td>\n",
       "      <td>25952</td>\n",
       "      <td>145</td>\n",
       "      <td>67.3</td>\n",
       "      <td>2.0</td>\n",
       "    </tr>\n",
       "    <tr>\n",
       "      <th>4</th>\n",
       "      <td>2019</td>\n",
       "      <td>17300</td>\n",
       "      <td>1998</td>\n",
       "      <td>145</td>\n",
       "      <td>49.6</td>\n",
       "      <td>1.0</td>\n",
       "    </tr>\n",
       "  </tbody>\n",
       "</table>\n",
       "</div>"
      ],
      "text/plain": [
       "   year  price  mileage  tax   mpg  engineSize\n",
       "0  2017  12500    15735  150  55.4         1.4\n",
       "1  2016  16500    36203   20  64.2         2.0\n",
       "2  2016  11000    29946   30  55.4         1.4\n",
       "3  2017  16800    25952  145  67.3         2.0\n",
       "4  2019  17300     1998  145  49.6         1.0"
      ]
     },
     "execution_count": 3,
     "metadata": {},
     "output_type": "execute_result"
    }
   ],
   "source": [
    "df = df.drop(columns=['transmission', 'fuelType', 'model']) # работаем только с числовыми признаками\n",
    "df.head()"
   ]
  },
  {
   "cell_type": "code",
   "execution_count": 4,
   "id": "dc7e0761-a9a2-48c4-9b78-024fa176a44e",
   "metadata": {},
   "outputs": [],
   "source": [
    "X = df.drop(columns=['price'])\n",
    "y = df['price']\n",
    "X_train, X_test, y_train, y_test = train_test_split(X, y, test_size=0.2, random_state=42)"
   ]
  },
  {
   "cell_type": "code",
   "execution_count": 5,
   "id": "bf1dd721-1df7-41cf-920c-c8051237f745",
   "metadata": {},
   "outputs": [
    {
     "data": {
      "text/html": [
       "<div>\n",
       "<style scoped>\n",
       "    .dataframe tbody tr th:only-of-type {\n",
       "        vertical-align: middle;\n",
       "    }\n",
       "\n",
       "    .dataframe tbody tr th {\n",
       "        vertical-align: top;\n",
       "    }\n",
       "\n",
       "    .dataframe thead th {\n",
       "        text-align: right;\n",
       "    }\n",
       "</style>\n",
       "<table border=\"1\" class=\"dataframe\">\n",
       "  <thead>\n",
       "    <tr style=\"text-align: right;\">\n",
       "      <th></th>\n",
       "      <th>year</th>\n",
       "      <th>mileage</th>\n",
       "      <th>tax</th>\n",
       "      <th>mpg</th>\n",
       "      <th>engineSize</th>\n",
       "    </tr>\n",
       "  </thead>\n",
       "  <tbody>\n",
       "    <tr>\n",
       "      <th>0</th>\n",
       "      <td>2017</td>\n",
       "      <td>15735</td>\n",
       "      <td>150</td>\n",
       "      <td>55.4</td>\n",
       "      <td>1.4</td>\n",
       "    </tr>\n",
       "    <tr>\n",
       "      <th>1</th>\n",
       "      <td>2016</td>\n",
       "      <td>36203</td>\n",
       "      <td>20</td>\n",
       "      <td>64.2</td>\n",
       "      <td>2.0</td>\n",
       "    </tr>\n",
       "    <tr>\n",
       "      <th>2</th>\n",
       "      <td>2016</td>\n",
       "      <td>29946</td>\n",
       "      <td>30</td>\n",
       "      <td>55.4</td>\n",
       "      <td>1.4</td>\n",
       "    </tr>\n",
       "    <tr>\n",
       "      <th>3</th>\n",
       "      <td>2017</td>\n",
       "      <td>25952</td>\n",
       "      <td>145</td>\n",
       "      <td>67.3</td>\n",
       "      <td>2.0</td>\n",
       "    </tr>\n",
       "    <tr>\n",
       "      <th>4</th>\n",
       "      <td>2019</td>\n",
       "      <td>1998</td>\n",
       "      <td>145</td>\n",
       "      <td>49.6</td>\n",
       "      <td>1.0</td>\n",
       "    </tr>\n",
       "  </tbody>\n",
       "</table>\n",
       "</div>"
      ],
      "text/plain": [
       "   year  mileage  tax   mpg  engineSize\n",
       "0  2017    15735  150  55.4         1.4\n",
       "1  2016    36203   20  64.2         2.0\n",
       "2  2016    29946   30  55.4         1.4\n",
       "3  2017    25952  145  67.3         2.0\n",
       "4  2019     1998  145  49.6         1.0"
      ]
     },
     "execution_count": 5,
     "metadata": {},
     "output_type": "execute_result"
    }
   ],
   "source": [
    "X.head()"
   ]
  },
  {
   "cell_type": "code",
   "execution_count": 6,
   "id": "9b67724e-c74c-4de4-ae67-5fffbafc514d",
   "metadata": {},
   "outputs": [
    {
     "name": "stdout",
     "output_type": "stream",
     "text": [
      "0.8732648459361659\n"
     ]
    }
   ],
   "source": [
    "model = DecisionTreeClassifier()\n",
    "model.fit(X_train, y_train)\n",
    "y_pred = model.predict(X_test)\n",
    "print(r2_score(y_pred, y_test))"
   ]
  },
  {
   "cell_type": "code",
   "execution_count": 7,
   "id": "2a3b9626-db57-4258-b761-8fb28a967d7d",
   "metadata": {},
   "outputs": [
    {
     "data": {
      "text/plain": [
       "array([0.06407231, 0.64896675, 0.06824801, 0.18643184, 0.0322811 ])"
      ]
     },
     "execution_count": 7,
     "metadata": {},
     "output_type": "execute_result"
    }
   ],
   "source": [
    "model.feature_importances_"
   ]
  },
  {
   "cell_type": "markdown",
   "id": "1d5ba56f-14cb-424f-b58d-46478113eaba",
   "metadata": {},
   "source": [
    "Наиболее значительный признак - это `mileage`. `mpg` также немного влияет на результат, остальные незначительны."
   ]
  },
  {
   "cell_type": "markdown",
   "id": "f6b98aa9-8e98-437c-be2c-e21c7d32b06b",
   "metadata": {},
   "source": [
    "# Medium"
   ]
  },
  {
   "cell_type": "code",
   "execution_count": 8,
   "id": "348a07a2-89f9-48e0-b305-bc23aae0e38f",
   "metadata": {},
   "outputs": [],
   "source": [
    "df_audi = pd.read_csv('../data/audi.csv')\n",
    "df_bmw = pd.read_csv('../data/bmw.csv')\n",
    "df_cclass = pd.read_csv('../data/cclass.csv')\n",
    "df_focus = pd.read_csv('../data/focus.csv')\n",
    "df_ford = pd.read_csv('../data/ford.csv')\n",
    "df_hyundi = pd.read_csv('../data/hyundi.csv')\n",
    "df_merc = pd.read_csv('../data/merc.csv')\n",
    "df_skoda = pd.read_csv('../data/skoda.csv')\n",
    "df_toyota = pd.read_csv('../data/toyota.csv')\n",
    "df_vauxhall = pd.read_csv('../data/vauxhall.csv')\n",
    "df_vw = pd.read_csv('../data/vw.csv')"
   ]
  },
  {
   "cell_type": "code",
   "execution_count": 9,
   "id": "6e989faf-e574-4ce1-b1b7-63ceb0441f81",
   "metadata": {},
   "outputs": [],
   "source": [
    "df = pd.concat([df_audi, df_bmw, df_cclass, df_focus, df_ford, df_hyundi, df_merc, \n",
    "                df_skoda, df_toyota, df_vauxhall, df_vw], ignore_index=True)"
   ]
  },
  {
   "cell_type": "code",
   "execution_count": 10,
   "id": "16675807-576f-41a1-8395-337bc4df7a37",
   "metadata": {},
   "outputs": [
    {
     "data": {
      "text/plain": [
       "(108540, 10)"
      ]
     },
     "execution_count": 10,
     "metadata": {},
     "output_type": "execute_result"
    }
   ],
   "source": [
    "df.shape"
   ]
  },
  {
   "cell_type": "code",
   "execution_count": 11,
   "id": "6f1648ad-79aa-4467-82eb-6f9ac7aca012",
   "metadata": {},
   "outputs": [
    {
     "name": "stdout",
     "output_type": "stream",
     "text": [
      "{'Other', 'Semi-Auto', 'Automatic', 'Manual'}\n",
      "{'Diesel', 'Hybrid', 'Petrol', 'Other', 'Electric'}\n",
      "{' Accent', ' GT86', ' Zafira Tourer', ' Fox', ' X6', ' Scirocco', ' Tucson', ' Z4', ' Mokka X', ' Getz', ' Zafira', ' Polo', ' Astra', ' Q8', ' A3', ' Insignia', ' C-MAX', ' Mondeo', ' KA', ' 3 Series', ' SLK', ' Prius', ' S5', ' M5', ' CLA Class', ' Z3', ' I30', ' Yaris', ' TT', ' IQ', ' A8', ' IX20', ' Beetle', ' Mustang', ' Kuga', ' V Class', ' RS7', ' I10', ' Viva', ' Meriva', ' M3', ' M2', ' EcoSport', ' Ka+', ' CC', ' 6 Series', ' Cascada', ' GLA Class', ' CL Class', ' 4 Series', ' Edge', '200', ' Superb', ' Kodiaq', ' T-Cross', ' Tiguan', ' IX35', ' X4', ' Veloster', ' Focus', ' Caddy', ' A6', ' i3', ' Grand C-MAX', ' Tigra', ' A2', ' Fiesta', ' B Class', ' Corolla', ' Urban Cruiser', ' Combo Life', ' RS3', ' Vivaro', ' SQ7', ' A4', ' Crossland X', ' CLC Class', ' Ioniq', ' Sharan', ' Roomster', ' GLE Class', ' Tiguan Allspace', ' Mokka', ' Golf', ' Q7', ' A Class', '230', ' Yeti', ' Ampera', ' I40', ' Eos', ' C-HR', ' 2 Series', ' Ranger', '180', ' I800', ' Golf SV', ' X1', ' G Class', ' Fusion', ' Auris', ' S3', ' S4', ' X3', ' Antara', ' Jetta', ' Q5', ' i8', ' 7 Series', ' Scala', ' T-Roc', ' Hilux', ' Grandland X', ' SL CLASS', ' X5', ' Karoq', ' Amica', ' A1', ' Q3', ' CLS Class', ' Amarok', ' E Class', ' SQ5', ' Citigo', ' A7', ' Q2', ' Verso-S', ' Caddy Life', ' R Class', ' Grand Tourneo Connect', ' GL Class', ' Yeti Outdoor', ' Touareg', ' R8', ' A5', ' 1 Series', ' Caravelle', ' California', ' Passat', ' Fabia', ' Verso', ' M Class', ' RAV4', ' GTC', ' Kona', ' Terracan', ' GLS Class', ' 5 Series', ' Streetka', ' Tourneo Connect', ' Supra', ' 8 Series', ' X7', ' B-MAX', ' I20', ' Rapid', ' Caddy Maxi', ' Santa Fe', ' GLC Class', ' Arteon', ' RS5', ' Transit Tourneo', ' CLK', ' Shuttle', ' Camry', ' Adam', ' Kadjar', ' C Class', ' Galaxy', '220', ' Up', ' Touran', ' Aygo', ' Octavia', ' Corsa', ' RS4', ' Tourneo Custom', ' Land Cruiser', ' Caddy Maxi Life', ' X2', ' M6', ' S Class', ' Vectra', ' RS6', ' Escort', ' M4', ' X-CLASS', ' S-MAX', ' GLB Class', ' PROACE VERSO', ' Avensis', ' Agila', ' Kamiq', ' S8', ' Puma'}\n"
     ]
    }
   ],
   "source": [
    "print(set(df['transmission']))\n",
    "print(set(df['fuelType']))\n",
    "print(set(df['model']))"
   ]
  },
  {
   "cell_type": "markdown",
   "id": "3ea2282b-9360-4214-8778-0625cb96a114",
   "metadata": {},
   "source": [
    "`transmission`, `fuelType` и `model` заменим на последовательные числа от 0 до n-1, где n - количество различных значений признака."
   ]
  },
  {
   "cell_type": "code",
   "execution_count": 12,
   "id": "cdb701d4-c15a-4b16-b3c2-6aa945a4b4f3",
   "metadata": {},
   "outputs": [],
   "source": [
    "features_to_change = {'transmission' : list(set(df['transmission'])),\n",
    "            'fuelType' : list(set(df['fuelType'])),\n",
    "            'model' : list(set(df['model']))}\n",
    "\n",
    "def change_feature(df, feature, feature_list):\n",
    "    for i in df.index:\n",
    "        df.loc[i, feature] = feature_list.index(df.loc[i, feature])\n",
    "    return df"
   ]
  },
  {
   "cell_type": "code",
   "execution_count": 13,
   "id": "6bb5101a-f3f9-45c7-bed9-ffe7e0e25e93",
   "metadata": {},
   "outputs": [
    {
     "data": {
      "text/html": [
       "<div>\n",
       "<style scoped>\n",
       "    .dataframe tbody tr th:only-of-type {\n",
       "        vertical-align: middle;\n",
       "    }\n",
       "\n",
       "    .dataframe tbody tr th {\n",
       "        vertical-align: top;\n",
       "    }\n",
       "\n",
       "    .dataframe thead th {\n",
       "        text-align: right;\n",
       "    }\n",
       "</style>\n",
       "<table border=\"1\" class=\"dataframe\">\n",
       "  <thead>\n",
       "    <tr style=\"text-align: right;\">\n",
       "      <th></th>\n",
       "      <th>model</th>\n",
       "      <th>year</th>\n",
       "      <th>price</th>\n",
       "      <th>transmission</th>\n",
       "      <th>mileage</th>\n",
       "      <th>fuelType</th>\n",
       "      <th>tax</th>\n",
       "      <th>mpg</th>\n",
       "      <th>engineSize</th>\n",
       "      <th>tax(£)</th>\n",
       "    </tr>\n",
       "  </thead>\n",
       "  <tbody>\n",
       "    <tr>\n",
       "      <th>0</th>\n",
       "      <td>117</td>\n",
       "      <td>2017</td>\n",
       "      <td>12500</td>\n",
       "      <td>3</td>\n",
       "      <td>15735</td>\n",
       "      <td>2</td>\n",
       "      <td>150.0</td>\n",
       "      <td>55.4</td>\n",
       "      <td>1.4</td>\n",
       "      <td>NaN</td>\n",
       "    </tr>\n",
       "    <tr>\n",
       "      <th>1</th>\n",
       "      <td>61</td>\n",
       "      <td>2016</td>\n",
       "      <td>16500</td>\n",
       "      <td>2</td>\n",
       "      <td>36203</td>\n",
       "      <td>0</td>\n",
       "      <td>20.0</td>\n",
       "      <td>64.2</td>\n",
       "      <td>2.0</td>\n",
       "      <td>NaN</td>\n",
       "    </tr>\n",
       "    <tr>\n",
       "      <th>2</th>\n",
       "      <td>117</td>\n",
       "      <td>2016</td>\n",
       "      <td>11000</td>\n",
       "      <td>3</td>\n",
       "      <td>29946</td>\n",
       "      <td>2</td>\n",
       "      <td>30.0</td>\n",
       "      <td>55.4</td>\n",
       "      <td>1.4</td>\n",
       "      <td>NaN</td>\n",
       "    </tr>\n",
       "    <tr>\n",
       "      <th>3</th>\n",
       "      <td>74</td>\n",
       "      <td>2017</td>\n",
       "      <td>16800</td>\n",
       "      <td>2</td>\n",
       "      <td>25952</td>\n",
       "      <td>0</td>\n",
       "      <td>145.0</td>\n",
       "      <td>67.3</td>\n",
       "      <td>2.0</td>\n",
       "      <td>NaN</td>\n",
       "    </tr>\n",
       "    <tr>\n",
       "      <th>4</th>\n",
       "      <td>14</td>\n",
       "      <td>2019</td>\n",
       "      <td>17300</td>\n",
       "      <td>3</td>\n",
       "      <td>1998</td>\n",
       "      <td>2</td>\n",
       "      <td>145.0</td>\n",
       "      <td>49.6</td>\n",
       "      <td>1.0</td>\n",
       "      <td>NaN</td>\n",
       "    </tr>\n",
       "  </tbody>\n",
       "</table>\n",
       "</div>"
      ],
      "text/plain": [
       "  model  year  price transmission  mileage fuelType    tax   mpg  engineSize  \\\n",
       "0   117  2017  12500            3    15735        2  150.0  55.4         1.4   \n",
       "1    61  2016  16500            2    36203        0   20.0  64.2         2.0   \n",
       "2   117  2016  11000            3    29946        2   30.0  55.4         1.4   \n",
       "3    74  2017  16800            2    25952        0  145.0  67.3         2.0   \n",
       "4    14  2019  17300            3     1998        2  145.0  49.6         1.0   \n",
       "\n",
       "   tax(£)  \n",
       "0     NaN  \n",
       "1     NaN  \n",
       "2     NaN  \n",
       "3     NaN  \n",
       "4     NaN  "
      ]
     },
     "execution_count": 13,
     "metadata": {},
     "output_type": "execute_result"
    }
   ],
   "source": [
    "for feature in features_to_change.keys():\n",
    "    df = change_feature(df, feature, features_to_change[feature])\n",
    "df.head()"
   ]
  },
  {
   "cell_type": "code",
   "execution_count": 14,
   "id": "b12131db-b5d2-446a-aedc-87d247f90f3a",
   "metadata": {},
   "outputs": [],
   "source": [
    "params_decision_tree = {\n",
    "    'criterion': ['gini', 'entropy'],\n",
    "    'max_depth': [i for i in range(3, 21)], \n",
    "    'max_features': ['sqrt', 'log2', None]\n",
    "}\n",
    "\n",
    "params_random_forest = {\n",
    "    'n_estimators': [5, 25, 50, 100, 500],\n",
    "    'criterion': ['gini', 'entropy'],\n",
    "    'max_depth': [i for i in range(3, 21)] #log2(10^5) is close to 16, but let's consider numbers up to 20 too, since each class has very few members\n",
    "}\n",
    "\n",
    "X = df.drop(columns=['price'])\n",
    "y = df['price']\n",
    "X_train, X_test, y_train, y_test = train_test_split(X, y, test_size=0.2, random_state=42)"
   ]
  },
  {
   "cell_type": "code",
   "execution_count": 15,
   "id": "b966bddc-7ea0-455a-97f6-cb83d758783a",
   "metadata": {},
   "outputs": [
    {
     "name": "stdout",
     "output_type": "stream",
     "text": [
      "3 0.06310688828449962\n",
      "4 0.11527947430197583\n",
      "5 0.5232373697124747\n",
      "6 0.5635249725141452\n",
      "7 0.581122403071725\n",
      "8 -1.7606722344538421\n",
      "9 0.10390476902314294\n",
      "10 0.6284331846761142\n",
      "11 0.2662003170726608\n",
      "12 0.6572484837437562\n",
      "13 0.6233573933977508\n",
      "14 0.6760347145633858\n",
      "15 0.6479482066590762\n",
      "16 0.6888234355083926\n",
      "17 0.6807593397048644\n",
      "18 0.6606080795637566\n",
      "19 0.7378370390618892\n",
      "20 0.7293701388598062\n"
     ]
    }
   ],
   "source": [
    "for i in params_decision_tree['max_depth']:\n",
    "    model = DecisionTreeClassifier(max_depth=i)\n",
    "    model.fit(X_train, y_train)\n",
    "    y_pred = model.predict(X_test)\n",
    "    print(i, r2_score(y_pred, y_test))"
   ]
  },
  {
   "cell_type": "code",
   "execution_count": 16,
   "id": "c9a3f9f2-9d90-4537-9db5-7a199f3411e2",
   "metadata": {},
   "outputs": [
    {
     "data": {
      "text/plain": [
       "TtestResult(statistic=4.544463771542613, pvalue=0.9999972388213494, df=43414.0)"
      ]
     },
     "execution_count": 16,
     "metadata": {},
     "output_type": "execute_result"
    }
   ],
   "source": [
    "model = DecisionTreeClassifier(criterion='gini')\n",
    "model.fit(X_train, y_train)\n",
    "y_pred1 = model.predict(X_test)\n",
    "\n",
    "model = DecisionTreeClassifier(criterion='entropy')\n",
    "model.fit(X_train, y_train)\n",
    "y_pred2 = model.predict(X_test)\n",
    "ttest_ind(y_pred1, y_pred2, alternative='less')"
   ]
  },
  {
   "cell_type": "code",
   "execution_count": 17,
   "id": "0b6f8fc9-7721-4c06-a677-b679fc11b158",
   "metadata": {},
   "outputs": [
    {
     "name": "stdout",
     "output_type": "stream",
     "text": [
      "TtestResult(statistic=-10.281269670571875, pvalue=4.569091281592875e-25, df=43414.0)\n",
      "TtestResult(statistic=14.458903451706686, pvalue=1.0, df=43414.0)\n"
     ]
    }
   ],
   "source": [
    "model = DecisionTreeClassifier(max_features='log2')\n",
    "model.fit(X_train, y_train)\n",
    "y_pred1 = model.predict(X_test)\n",
    "\n",
    "model = DecisionTreeClassifier(max_features='sqrt')\n",
    "model.fit(X_train, y_train)\n",
    "y_pred2 = model.predict(X_test)\n",
    "print(ttest_ind(y_pred1, y_pred2, alternative='less'))\n",
    "\n",
    "model = DecisionTreeClassifier(max_features=None)\n",
    "model.fit(X_train, y_train)\n",
    "y_pred3 = model.predict(X_test)\n",
    "print(ttest_ind(y_pred2, y_pred3, alternative='less'))"
   ]
  },
  {
   "cell_type": "markdown",
   "id": "5f8fed1b-8c96-427c-8e59-e714b4a48fa5",
   "metadata": {},
   "source": [
    "Сравним модель с лучшими гиперпараметрами с дефолтной"
   ]
  },
  {
   "cell_type": "code",
   "execution_count": 22,
   "id": "cb414a65-f9cc-4cb7-a8bd-7d697a8a0a7c",
   "metadata": {},
   "outputs": [
    {
     "data": {
      "text/plain": [
       "TtestResult(statistic=-2.236899405344602, pvalue=0.012648985594206697, df=43414.0)"
      ]
     },
     "execution_count": 22,
     "metadata": {},
     "output_type": "execute_result"
    }
   ],
   "source": [
    "model_tree_custom = DecisionTreeClassifier(max_features=None, criterion='entropy', max_depth=19) # на этих гиперпараметрах результаты наилучшие\n",
    "model_tree_custom.fit(X_train, y_train)\n",
    "y_pred1 = model_tree_custom.predict(X_test)\n",
    "\n",
    "model_tree = DecisionTreeClassifier()\n",
    "model_tree.fit(X_train, y_train)\n",
    "y_pred2 = model_tree.predict(X_test)\n",
    "ttest_ind(y_pred1, y_pred2, alternative='less')"
   ]
  },
  {
   "cell_type": "markdown",
   "id": "f476120b-fe65-4f1f-84f0-6d3ecab0d8a1",
   "metadata": {},
   "source": [
    "Дефолтная модель выиграла"
   ]
  },
  {
   "cell_type": "markdown",
   "id": "bac31f85-655c-428a-9ca3-50e369e65078",
   "metadata": {},
   "source": [
    "К сожалению, не получается запустить код того же содержания для random forest'а, потому что каждый раз, когда я запускаю его с дефолтными параметрами, у меня умиарет ядро."
   ]
  },
  {
   "cell_type": "code",
   "execution_count": 18,
   "id": "9f2ed854-de33-4ed2-85ca-6a620553cecd",
   "metadata": {},
   "outputs": [],
   "source": [
    "'''for i in params_random_forest['max_depth']:\n",
    "    model = RandomForestClassifier(max_depth=i)\n",
    "    model.fit(X_train, y_train)\n",
    "    y_pred = model.predict(X_test)\n",
    "    print(i, r2_score(y_pred, y_test))''';"
   ]
  },
  {
   "cell_type": "code",
   "execution_count": 19,
   "id": "a9628b39-521b-4c3a-af35-e1cefdec20ca",
   "metadata": {},
   "outputs": [],
   "source": [
    "'''for i in params_random_forest['n_estimators']:\n",
    "    model = RandomForestClassifier(max_depth=i)\n",
    "    model.fit(X_train, y_train)\n",
    "    y_pred = model.predict(X_test)\n",
    "    print(i, r2_score(y_pred, y_test))''';"
   ]
  },
  {
   "cell_type": "code",
   "execution_count": 20,
   "id": "5a2fde50-3659-43fa-bb9b-0e20be08d002",
   "metadata": {},
   "outputs": [],
   "source": [
    "'''model = RandomForestClassifier(criterion='gini')\n",
    "model.fit(X_train, y_train)\n",
    "y_pred1 = model.predict(X_test)\n",
    "\n",
    "model = RandomForestClassifier(criterion='entropy')\n",
    "model.fit(X_train, y_train)\n",
    "y_pred2 = model.predict(X_test)\n",
    "ttest_ind(y_pred1, y_pred2, alternative='less')''';"
   ]
  },
  {
   "cell_type": "code",
   "execution_count": 21,
   "id": "d032d69f-226e-4fb3-8b2f-ce2113b59275",
   "metadata": {},
   "outputs": [],
   "source": [
    "'''model_forest_custom = RandomForestClassifier(n_estimators=, criterion='', max_depth=)\n",
    "model_forest_custom.fit(X_train, y_train)\n",
    "y_pred1 = model_forest_custom.predict(X_test)\n",
    "\n",
    "model_forest = RandomForestClassifier()\n",
    "model_forest.fit(X_train, y_train)\n",
    "y_pred2 = model_forest.predict(X_test)\n",
    "ttest_ind(y_pred1, y_pred2, alternative='less')''';"
   ]
  },
  {
   "cell_type": "code",
   "execution_count": null,
   "id": "1d22543e-9710-4fd9-8551-ce0dc597d5c8",
   "metadata": {},
   "outputs": [],
   "source": []
  },
  {
   "cell_type": "markdown",
   "id": "24b48150-e215-497d-9293-bf19c548f166",
   "metadata": {},
   "source": [
    "# Hard (TODO)"
   ]
  },
  {
   "cell_type": "code",
   "execution_count": null,
   "id": "908ef40c-e65c-456b-83ad-964d1e57b136",
   "metadata": {},
   "outputs": [],
   "source": []
  }
 ],
 "metadata": {
  "kernelspec": {
   "display_name": "Python 3 (ipykernel)",
   "language": "python",
   "name": "python3"
  },
  "language_info": {
   "codemirror_mode": {
    "name": "ipython",
    "version": 3
   },
   "file_extension": ".py",
   "mimetype": "text/x-python",
   "name": "python",
   "nbconvert_exporter": "python",
   "pygments_lexer": "ipython3",
   "version": "3.11.7"
  }
 },
 "nbformat": 4,
 "nbformat_minor": 5
}
