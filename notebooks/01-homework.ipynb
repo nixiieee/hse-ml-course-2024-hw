{
 "cells": [
  {
   "cell_type": "markdown",
   "metadata": {
    "id": "J6NemoqujCXA"
   },
   "source": [
    "# Easy"
   ]
  },
  {
   "cell_type": "code",
   "execution_count": 3,
   "metadata": {
    "executionInfo": {
     "elapsed": 983,
     "status": "ok",
     "timestamp": 1705770090720,
     "user": {
      "displayName": "Kseniia Zolina",
      "userId": "13172448315061697825"
     },
     "user_tz": -180
    },
    "id": "V_OgsxqhjACX"
   },
   "outputs": [],
   "source": [
    "def func(input_list : list) -> dict:\n",
    "    if len(input_list) == 0: # если список пустой\n",
    "        return { 'mean' : 0, 'median' : 0, 'mode' : 0 }\n",
    "    result = dict()\n",
    "    frequency = dict()\n",
    "    sum_of_list = 0\n",
    "    for i in range(len(input_list)):\n",
    "        sum_of_list += input_list[i]\n",
    "        if input_list[i] in frequency.keys():\n",
    "            frequency[input_list[i]] += 1\n",
    "        else:\n",
    "            frequency[input_list[i]] = 1\n",
    "    result['mean'] = sum_of_list / len(input_list)\n",
    "    input_list.sort()\n",
    "    if len(input_list) % 2 == 0:\n",
    "        result['median'] = (input_list[len(input_list) // 2] + input_list[len(input_list) // 2 - 1]) / 2\n",
    "    else: \n",
    "        result['median'] = input_list[len(input_list) // 2]\n",
    "    biggest_frequency = frequency[input_list[0]]\n",
    "    result['mode'] = input_list[0]\n",
    "    for i in frequency.keys():\n",
    "        if frequency[i] > biggest_frequency:\n",
    "            biggest_frequency = frequency[i]\n",
    "            result['mode'] = i\n",
    "    return result"
   ]
  },
  {
   "cell_type": "code",
   "execution_count": 4,
   "metadata": {
    "colab": {
     "base_uri": "https://localhost:8080/"
    },
    "executionInfo": {
     "elapsed": 11,
     "status": "ok",
     "timestamp": 1705770090721,
     "user": {
      "displayName": "Kseniia Zolina",
      "userId": "13172448315061697825"
     },
     "user_tz": -180
    },
    "id": "cW-VBtVckFFm",
    "outputId": "18d39226-592a-4325-b467-31a9cf92a403"
   },
   "outputs": [
    {
     "data": {
      "text/plain": [
       "{'mean': 3.4285714285714284, 'median': 3, 'mode': 1}"
      ]
     },
     "execution_count": 4,
     "metadata": {},
     "output_type": "execute_result"
    }
   ],
   "source": [
    "func([0, 1, 1, 10, 5, 4, 3])"
   ]
  },
  {
   "cell_type": "code",
   "execution_count": 6,
   "metadata": {},
   "outputs": [
    {
     "data": {
      "text/plain": [
       "{'mean': 3.5, 'median': 2.5, 'mode': 1}"
      ]
     },
     "execution_count": 6,
     "metadata": {},
     "output_type": "execute_result"
    }
   ],
   "source": [
    "func([0, 1, 1, 10, 5, 4])"
   ]
  },
  {
   "cell_type": "code",
   "execution_count": 5,
   "metadata": {
    "colab": {
     "base_uri": "https://localhost:8080/"
    },
    "executionInfo": {
     "elapsed": 9,
     "status": "ok",
     "timestamp": 1705770090722,
     "user": {
      "displayName": "Kseniia Zolina",
      "userId": "13172448315061697825"
     },
     "user_tz": -180
    },
    "id": "wyrr5BpUkpy4",
    "outputId": "5d0384ff-5a1c-4b82-cbcd-92915a570f4b"
   },
   "outputs": [
    {
     "data": {
      "text/plain": [
       "{'mean': 0, 'median': 0, 'mode': 0}"
      ]
     },
     "execution_count": 5,
     "metadata": {},
     "output_type": "execute_result"
    }
   ],
   "source": [
    "func([])"
   ]
  },
  {
   "cell_type": "markdown",
   "metadata": {
    "id": "qTyrS_3hkNDE"
   },
   "source": [
    "# Medium"
   ]
  },
  {
   "cell_type": "code",
   "execution_count": 30,
   "metadata": {
    "executionInfo": {
     "elapsed": 628,
     "status": "ok",
     "timestamp": 1705770091345,
     "user": {
      "displayName": "Kseniia Zolina",
      "userId": "13172448315061697825"
     },
     "user_tz": -180
    },
    "id": "_WQ29OfPlB4X"
   },
   "outputs": [],
   "source": [
    "def parse_csv(file_content: str) -> list[dict]:\n",
    "    result = list()\n",
    "    with open('../data/dota_hero_stats.csv', 'r') as file:\n",
    "        df = file.readlines()\n",
    "    headings = df[0].split(',')\n",
    "    headings[-1] = headings[-1][:-1] # обрезаем \\n\n",
    "    for i in range(1, len(df)):\n",
    "        d = dict()\n",
    "        current_line = df[i].split(',')\n",
    "        for j in range(1, 7):\n",
    "            if j == 2 or j == 3:\n",
    "                d[headings[j]] = int(current_line[j])\n",
    "            else: \n",
    "                d[headings[j]] = current_line[j]\n",
    "        d[headings[-1]] = df[i][df[i].find('[')+2:df[i].find(']')-1].split(\"', '\")\n",
    "        result.append(d)\n",
    "    return result"
   ]
  },
  {
   "cell_type": "code",
   "execution_count": 27,
   "metadata": {},
   "outputs": [
    {
     "name": "stdout",
     "output_type": "stream",
     "text": [
      "['Carry', 'Escape', 'Nuker']\n"
     ]
    }
   ],
   "source": [
    "with open('../data/dota_hero_stats.csv', 'r') as file:\n",
    "    df = file.readlines()\n",
    "print(df[1][df[1].find('[')+2:df[1].find(']')-1].split(\"', '\"))"
   ]
  },
  {
   "cell_type": "code",
   "execution_count": 32,
   "metadata": {
    "colab": {
     "base_uri": "https://localhost:8080/"
    },
    "executionInfo": {
     "elapsed": 36,
     "status": "ok",
     "timestamp": 1705770091345,
     "user": {
      "displayName": "Kseniia Zolina",
      "userId": "13172448315061697825"
     },
     "user_tz": -180
    },
    "id": "meyFS3eellJZ",
    "outputId": "e75e09e0-134e-44fd-e305-c2e4648b5590"
   },
   "outputs": [
    {
     "name": "stdout",
     "output_type": "stream",
     "text": [
      "{'attack_type': 'Melee', 'id': 1, 'legs': 2, 'localized_name': 'Anti-Mage', 'name': 'npc_dota_hero_antimage', 'primary_attr': 'agi', 'roles': ['Carry', 'Escape', 'Nuker']}\n"
     ]
    }
   ],
   "source": [
    "parsed_stats = parse_csv('../data/dota_hero_stats.csv')\n",
    "print(parsed_stats[0])"
   ]
  },
  {
   "cell_type": "code",
   "execution_count": 36,
   "metadata": {
    "colab": {
     "base_uri": "https://localhost:8080/"
    },
    "executionInfo": {
     "elapsed": 30,
     "status": "ok",
     "timestamp": 1705770091345,
     "user": {
      "displayName": "Kseniia Zolina",
      "userId": "13172448315061697825"
     },
     "user_tz": -180
    },
    "id": "sDBxGx0rmd9l",
    "outputId": "325bf9b3-ae02-4a57-9e84-9f66886f134c"
   },
   "outputs": [
    {
     "name": "stdout",
     "output_type": "stream",
     "text": [
      "{'attack_type': 'Ranged', 'id': 10, 'legs': 0, 'localized_name': 'Morphling', 'name': 'npc_dota_hero_morphling', 'primary_attr': 'agi', 'roles': ['Carry', 'Escape', 'Durable', 'Nuker', 'Disabler']}\n"
     ]
    }
   ],
   "source": [
    "max_legs = parsed_stats[0]['legs']\n",
    "id = 0\n",
    "for i in range(len(parsed_stats)):\n",
    "    if max_legs > parsed_stats[i]['legs']:\n",
    "        max_legs = parsed_stats[i]['legs']\n",
    "        id = i\n",
    "print(parsed_stats[id])"
   ]
  },
  {
   "cell_type": "markdown",
   "metadata": {
    "id": "-mISlAVmqzgb"
   },
   "source": [
    "# Hard"
   ]
  },
  {
   "cell_type": "markdown",
   "metadata": {
    "id": "bycJRXVGq1d5"
   },
   "source": [
    "Мера близости между персонажами - вещественное число от 0 до 1, где 0 значит, что персонажи идентичны, а 1 - не имеют ни одной общей черты. \"Штраф\" за непохожесть между двумя персонажами начисляется следущим образом:\n",
    "\n",
    "1. **attack_type**: 0/1 - совпадает/не совпадает\n",
    "2. **legs**: разница между количеством ног / 8, вещественное число от 0 до 1\n",
    "3. **primary_attr**: 0/1 - совпадает/не совпадает\n",
    "4. **roles**:  за каждую роль, которая есть у одного персонажа и нет у другого, начисляется 1 балл. Сумма баллов делится на 9, получаем вещественное число от 0 до 1\n",
    "\n",
    "Результат = сумма баллов за все пункты / 4\n",
    "\n"
   ]
  },
  {
   "cell_type": "code",
   "execution_count": 8,
   "metadata": {
    "executionInfo": {
     "elapsed": 22,
     "status": "ok",
     "timestamp": 1705770091346,
     "user": {
      "displayName": "Kseniia Zolina",
      "userId": "13172448315061697825"
     },
     "user_tz": -180
    },
    "id": "GIFiTrf3uey7"
   },
   "outputs": [],
   "source": [
    "import pandas as pd"
   ]
  },
  {
   "cell_type": "code",
   "execution_count": 9,
   "metadata": {
    "executionInfo": {
     "elapsed": 21,
     "status": "ok",
     "timestamp": 1705770091346,
     "user": {
      "displayName": "Kseniia Zolina",
      "userId": "13172448315061697825"
     },
     "user_tz": -180
    },
    "id": "kMhGqTnzw6uD"
   },
   "outputs": [],
   "source": [
    "def parse_string(string : str) -> list:\n",
    "    if len(string) == 0:\n",
    "        return []\n",
    "    string = string[1:-1]\n",
    "    result = string.split(', ')\n",
    "    return result"
   ]
  },
  {
   "cell_type": "code",
   "execution_count": 10,
   "metadata": {
    "executionInfo": {
     "elapsed": 20,
     "status": "ok",
     "timestamp": 1705770091346,
     "user": {
      "displayName": "Kseniia Zolina",
      "userId": "13172448315061697825"
     },
     "user_tz": -180
    },
    "id": "a7zBabghq0hM"
   },
   "outputs": [],
   "source": [
    "def diff_metric(hero_a : pd.DataFrame, hero_b : pd.DataFrame) -> float:\n",
    "    result = 0\n",
    "    result += int(not(hero_a['attack_type'] == hero_b['attack_type'])) + int(not(hero_a['primary_attr'] == hero_b['primary_attr']))\n",
    "    result += abs(hero_a['legs'] - hero_b['legs']) / 8\n",
    "    roles_a = parse_string(hero_a['roles'])\n",
    "    roles_b = parse_string(hero_b['roles'])\n",
    "    roles_diff = 0\n",
    "    for role in roles_a:\n",
    "        if role not in roles_b:\n",
    "            roles_diff += 1\n",
    "    for role in roles_b:\n",
    "        if role not in roles_a:\n",
    "            roles_diff += 1\n",
    "    result += roles_diff / 9\n",
    "    return result / 4"
   ]
  },
  {
   "cell_type": "code",
   "execution_count": 11,
   "metadata": {
    "colab": {
     "base_uri": "https://localhost:8080/",
     "height": 206
    },
    "executionInfo": {
     "elapsed": 20,
     "status": "ok",
     "timestamp": 1705770091346,
     "user": {
      "displayName": "Kseniia Zolina",
      "userId": "13172448315061697825"
     },
     "user_tz": -180
    },
    "id": "8X1bqZK8srzU",
    "outputId": "3219f729-8ae5-4566-fad7-53de3655a850"
   },
   "outputs": [
    {
     "data": {
      "text/html": [
       "\n",
       "  <div id=\"df-b87d340d-04f0-4752-a28c-822eb785607f\" class=\"colab-df-container\">\n",
       "    <div>\n",
       "<style scoped>\n",
       "    .dataframe tbody tr th:only-of-type {\n",
       "        vertical-align: middle;\n",
       "    }\n",
       "\n",
       "    .dataframe tbody tr th {\n",
       "        vertical-align: top;\n",
       "    }\n",
       "\n",
       "    .dataframe thead th {\n",
       "        text-align: right;\n",
       "    }\n",
       "</style>\n",
       "<table border=\"1\" class=\"dataframe\">\n",
       "  <thead>\n",
       "    <tr style=\"text-align: right;\">\n",
       "      <th></th>\n",
       "      <th>Unnamed: 0</th>\n",
       "      <th>attack_type</th>\n",
       "      <th>id</th>\n",
       "      <th>legs</th>\n",
       "      <th>localized_name</th>\n",
       "      <th>name</th>\n",
       "      <th>primary_attr</th>\n",
       "      <th>roles</th>\n",
       "    </tr>\n",
       "  </thead>\n",
       "  <tbody>\n",
       "    <tr>\n",
       "      <th>0</th>\n",
       "      <td>0</td>\n",
       "      <td>Melee</td>\n",
       "      <td>1</td>\n",
       "      <td>2</td>\n",
       "      <td>Anti-Mage</td>\n",
       "      <td>npc_dota_hero_antimage</td>\n",
       "      <td>agi</td>\n",
       "      <td>['Carry', 'Escape', 'Nuker']</td>\n",
       "    </tr>\n",
       "    <tr>\n",
       "      <th>1</th>\n",
       "      <td>1</td>\n",
       "      <td>Melee</td>\n",
       "      <td>2</td>\n",
       "      <td>2</td>\n",
       "      <td>Axe</td>\n",
       "      <td>npc_dota_hero_axe</td>\n",
       "      <td>str</td>\n",
       "      <td>['Initiator', 'Durable', 'Disabler', 'Jungler']</td>\n",
       "    </tr>\n",
       "    <tr>\n",
       "      <th>2</th>\n",
       "      <td>2</td>\n",
       "      <td>Ranged</td>\n",
       "      <td>3</td>\n",
       "      <td>4</td>\n",
       "      <td>Bane</td>\n",
       "      <td>npc_dota_hero_bane</td>\n",
       "      <td>int</td>\n",
       "      <td>['Support', 'Disabler', 'Nuker', 'Durable']</td>\n",
       "    </tr>\n",
       "    <tr>\n",
       "      <th>3</th>\n",
       "      <td>3</td>\n",
       "      <td>Melee</td>\n",
       "      <td>4</td>\n",
       "      <td>2</td>\n",
       "      <td>Bloodseeker</td>\n",
       "      <td>npc_dota_hero_bloodseeker</td>\n",
       "      <td>agi</td>\n",
       "      <td>['Carry', 'Disabler', 'Jungler', 'Nuker', 'Ini...</td>\n",
       "    </tr>\n",
       "    <tr>\n",
       "      <th>4</th>\n",
       "      <td>4</td>\n",
       "      <td>Ranged</td>\n",
       "      <td>5</td>\n",
       "      <td>2</td>\n",
       "      <td>Crystal Maiden</td>\n",
       "      <td>npc_dota_hero_crystal_maiden</td>\n",
       "      <td>int</td>\n",
       "      <td>['Support', 'Disabler', 'Nuker', 'Jungler']</td>\n",
       "    </tr>\n",
       "  </tbody>\n",
       "</table>\n",
       "</div>\n",
       "    <div class=\"colab-df-buttons\">\n",
       "\n",
       "  <div class=\"colab-df-container\">\n",
       "    <button class=\"colab-df-convert\" onclick=\"convertToInteractive('df-b87d340d-04f0-4752-a28c-822eb785607f')\"\n",
       "            title=\"Convert this dataframe to an interactive table.\"\n",
       "            style=\"display:none;\">\n",
       "\n",
       "  <svg xmlns=\"http://www.w3.org/2000/svg\" height=\"24px\" viewBox=\"0 -960 960 960\">\n",
       "    <path d=\"M120-120v-720h720v720H120Zm60-500h600v-160H180v160Zm220 220h160v-160H400v160Zm0 220h160v-160H400v160ZM180-400h160v-160H180v160Zm440 0h160v-160H620v160ZM180-180h160v-160H180v160Zm440 0h160v-160H620v160Z\"/>\n",
       "  </svg>\n",
       "    </button>\n",
       "\n",
       "  <style>\n",
       "    .colab-df-container {\n",
       "      display:flex;\n",
       "      gap: 12px;\n",
       "    }\n",
       "\n",
       "    .colab-df-convert {\n",
       "      background-color: #E8F0FE;\n",
       "      border: none;\n",
       "      border-radius: 50%;\n",
       "      cursor: pointer;\n",
       "      display: none;\n",
       "      fill: #1967D2;\n",
       "      height: 32px;\n",
       "      padding: 0 0 0 0;\n",
       "      width: 32px;\n",
       "    }\n",
       "\n",
       "    .colab-df-convert:hover {\n",
       "      background-color: #E2EBFA;\n",
       "      box-shadow: 0px 1px 2px rgba(60, 64, 67, 0.3), 0px 1px 3px 1px rgba(60, 64, 67, 0.15);\n",
       "      fill: #174EA6;\n",
       "    }\n",
       "\n",
       "    .colab-df-buttons div {\n",
       "      margin-bottom: 4px;\n",
       "    }\n",
       "\n",
       "    [theme=dark] .colab-df-convert {\n",
       "      background-color: #3B4455;\n",
       "      fill: #D2E3FC;\n",
       "    }\n",
       "\n",
       "    [theme=dark] .colab-df-convert:hover {\n",
       "      background-color: #434B5C;\n",
       "      box-shadow: 0px 1px 3px 1px rgba(0, 0, 0, 0.15);\n",
       "      filter: drop-shadow(0px 1px 2px rgba(0, 0, 0, 0.3));\n",
       "      fill: #FFFFFF;\n",
       "    }\n",
       "  </style>\n",
       "\n",
       "    <script>\n",
       "      const buttonEl =\n",
       "        document.querySelector('#df-b87d340d-04f0-4752-a28c-822eb785607f button.colab-df-convert');\n",
       "      buttonEl.style.display =\n",
       "        google.colab.kernel.accessAllowed ? 'block' : 'none';\n",
       "\n",
       "      async function convertToInteractive(key) {\n",
       "        const element = document.querySelector('#df-b87d340d-04f0-4752-a28c-822eb785607f');\n",
       "        const dataTable =\n",
       "          await google.colab.kernel.invokeFunction('convertToInteractive',\n",
       "                                                    [key], {});\n",
       "        if (!dataTable) return;\n",
       "\n",
       "        const docLinkHtml = 'Like what you see? Visit the ' +\n",
       "          '<a target=\"_blank\" href=https://colab.research.google.com/notebooks/data_table.ipynb>data table notebook</a>'\n",
       "          + ' to learn more about interactive tables.';\n",
       "        element.innerHTML = '';\n",
       "        dataTable['output_type'] = 'display_data';\n",
       "        await google.colab.output.renderOutput(dataTable, element);\n",
       "        const docLink = document.createElement('div');\n",
       "        docLink.innerHTML = docLinkHtml;\n",
       "        element.appendChild(docLink);\n",
       "      }\n",
       "    </script>\n",
       "  </div>\n",
       "\n",
       "\n",
       "<div id=\"df-2374e065-4ad6-4667-88db-e03cc3cfb7d9\">\n",
       "  <button class=\"colab-df-quickchart\" onclick=\"quickchart('df-2374e065-4ad6-4667-88db-e03cc3cfb7d9')\"\n",
       "            title=\"Suggest charts\"\n",
       "            style=\"display:none;\">\n",
       "\n",
       "<svg xmlns=\"http://www.w3.org/2000/svg\" height=\"24px\"viewBox=\"0 0 24 24\"\n",
       "     width=\"24px\">\n",
       "    <g>\n",
       "        <path d=\"M19 3H5c-1.1 0-2 .9-2 2v14c0 1.1.9 2 2 2h14c1.1 0 2-.9 2-2V5c0-1.1-.9-2-2-2zM9 17H7v-7h2v7zm4 0h-2V7h2v10zm4 0h-2v-4h2v4z\"/>\n",
       "    </g>\n",
       "</svg>\n",
       "  </button>\n",
       "\n",
       "<style>\n",
       "  .colab-df-quickchart {\n",
       "      --bg-color: #E8F0FE;\n",
       "      --fill-color: #1967D2;\n",
       "      --hover-bg-color: #E2EBFA;\n",
       "      --hover-fill-color: #174EA6;\n",
       "      --disabled-fill-color: #AAA;\n",
       "      --disabled-bg-color: #DDD;\n",
       "  }\n",
       "\n",
       "  [theme=dark] .colab-df-quickchart {\n",
       "      --bg-color: #3B4455;\n",
       "      --fill-color: #D2E3FC;\n",
       "      --hover-bg-color: #434B5C;\n",
       "      --hover-fill-color: #FFFFFF;\n",
       "      --disabled-bg-color: #3B4455;\n",
       "      --disabled-fill-color: #666;\n",
       "  }\n",
       "\n",
       "  .colab-df-quickchart {\n",
       "    background-color: var(--bg-color);\n",
       "    border: none;\n",
       "    border-radius: 50%;\n",
       "    cursor: pointer;\n",
       "    display: none;\n",
       "    fill: var(--fill-color);\n",
       "    height: 32px;\n",
       "    padding: 0;\n",
       "    width: 32px;\n",
       "  }\n",
       "\n",
       "  .colab-df-quickchart:hover {\n",
       "    background-color: var(--hover-bg-color);\n",
       "    box-shadow: 0 1px 2px rgba(60, 64, 67, 0.3), 0 1px 3px 1px rgba(60, 64, 67, 0.15);\n",
       "    fill: var(--button-hover-fill-color);\n",
       "  }\n",
       "\n",
       "  .colab-df-quickchart-complete:disabled,\n",
       "  .colab-df-quickchart-complete:disabled:hover {\n",
       "    background-color: var(--disabled-bg-color);\n",
       "    fill: var(--disabled-fill-color);\n",
       "    box-shadow: none;\n",
       "  }\n",
       "\n",
       "  .colab-df-spinner {\n",
       "    border: 2px solid var(--fill-color);\n",
       "    border-color: transparent;\n",
       "    border-bottom-color: var(--fill-color);\n",
       "    animation:\n",
       "      spin 1s steps(1) infinite;\n",
       "  }\n",
       "\n",
       "  @keyframes spin {\n",
       "    0% {\n",
       "      border-color: transparent;\n",
       "      border-bottom-color: var(--fill-color);\n",
       "      border-left-color: var(--fill-color);\n",
       "    }\n",
       "    20% {\n",
       "      border-color: transparent;\n",
       "      border-left-color: var(--fill-color);\n",
       "      border-top-color: var(--fill-color);\n",
       "    }\n",
       "    30% {\n",
       "      border-color: transparent;\n",
       "      border-left-color: var(--fill-color);\n",
       "      border-top-color: var(--fill-color);\n",
       "      border-right-color: var(--fill-color);\n",
       "    }\n",
       "    40% {\n",
       "      border-color: transparent;\n",
       "      border-right-color: var(--fill-color);\n",
       "      border-top-color: var(--fill-color);\n",
       "    }\n",
       "    60% {\n",
       "      border-color: transparent;\n",
       "      border-right-color: var(--fill-color);\n",
       "    }\n",
       "    80% {\n",
       "      border-color: transparent;\n",
       "      border-right-color: var(--fill-color);\n",
       "      border-bottom-color: var(--fill-color);\n",
       "    }\n",
       "    90% {\n",
       "      border-color: transparent;\n",
       "      border-bottom-color: var(--fill-color);\n",
       "    }\n",
       "  }\n",
       "</style>\n",
       "\n",
       "  <script>\n",
       "    async function quickchart(key) {\n",
       "      const quickchartButtonEl =\n",
       "        document.querySelector('#' + key + ' button');\n",
       "      quickchartButtonEl.disabled = true;  // To prevent multiple clicks.\n",
       "      quickchartButtonEl.classList.add('colab-df-spinner');\n",
       "      try {\n",
       "        const charts = await google.colab.kernel.invokeFunction(\n",
       "            'suggestCharts', [key], {});\n",
       "      } catch (error) {\n",
       "        console.error('Error during call to suggestCharts:', error);\n",
       "      }\n",
       "      quickchartButtonEl.classList.remove('colab-df-spinner');\n",
       "      quickchartButtonEl.classList.add('colab-df-quickchart-complete');\n",
       "    }\n",
       "    (() => {\n",
       "      let quickchartButtonEl =\n",
       "        document.querySelector('#df-2374e065-4ad6-4667-88db-e03cc3cfb7d9 button');\n",
       "      quickchartButtonEl.style.display =\n",
       "        google.colab.kernel.accessAllowed ? 'block' : 'none';\n",
       "    })();\n",
       "  </script>\n",
       "</div>\n",
       "    </div>\n",
       "  </div>\n"
      ],
      "text/plain": [
       "   Unnamed: 0 attack_type  id  legs  localized_name  \\\n",
       "0           0       Melee   1     2       Anti-Mage   \n",
       "1           1       Melee   2     2             Axe   \n",
       "2           2      Ranged   3     4            Bane   \n",
       "3           3       Melee   4     2     Bloodseeker   \n",
       "4           4      Ranged   5     2  Crystal Maiden   \n",
       "\n",
       "                           name primary_attr  \\\n",
       "0        npc_dota_hero_antimage          agi   \n",
       "1             npc_dota_hero_axe          str   \n",
       "2            npc_dota_hero_bane          int   \n",
       "3     npc_dota_hero_bloodseeker          agi   \n",
       "4  npc_dota_hero_crystal_maiden          int   \n",
       "\n",
       "                                               roles  \n",
       "0                       ['Carry', 'Escape', 'Nuker']  \n",
       "1    ['Initiator', 'Durable', 'Disabler', 'Jungler']  \n",
       "2        ['Support', 'Disabler', 'Nuker', 'Durable']  \n",
       "3  ['Carry', 'Disabler', 'Jungler', 'Nuker', 'Ini...  \n",
       "4        ['Support', 'Disabler', 'Nuker', 'Jungler']  "
      ]
     },
     "execution_count": 11,
     "metadata": {},
     "output_type": "execute_result"
    }
   ],
   "source": [
    "with open('../data/dota_hero_stats.csv', 'r') as file:\n",
    "    df = pd.read_csv(file)\n",
    "df.head()"
   ]
  },
  {
   "cell_type": "code",
   "execution_count": 12,
   "metadata": {
    "executionInfo": {
     "elapsed": 18,
     "status": "ok",
     "timestamp": 1705770091346,
     "user": {
      "displayName": "Kseniia Zolina",
      "userId": "13172448315061697825"
     },
     "user_tz": -180
    },
    "id": "NERerl1Lt-TL"
   },
   "outputs": [],
   "source": [
    "df_as_dict = df.to_dict(orient='index')"
   ]
  },
  {
   "cell_type": "code",
   "execution_count": 13,
   "metadata": {
    "colab": {
     "base_uri": "https://localhost:8080/"
    },
    "executionInfo": {
     "elapsed": 18,
     "status": "ok",
     "timestamp": 1705770091347,
     "user": {
      "displayName": "Kseniia Zolina",
      "userId": "13172448315061697825"
     },
     "user_tz": -180
    },
    "id": "7eX1g1OVt_ma",
    "outputId": "fd9ac101-d858-465b-abb8-68f4e78cbe60"
   },
   "outputs": [
    {
     "data": {
      "text/plain": [
       "{'Unnamed: 0': 0,\n",
       " 'attack_type': 'Melee',\n",
       " 'id': 1,\n",
       " 'legs': 2,\n",
       " 'localized_name': 'Anti-Mage',\n",
       " 'name': 'npc_dota_hero_antimage',\n",
       " 'primary_attr': 'agi',\n",
       " 'roles': \"['Carry', 'Escape', 'Nuker']\"}"
      ]
     },
     "execution_count": 13,
     "metadata": {},
     "output_type": "execute_result"
    }
   ],
   "source": [
    "df_as_dict[0]"
   ]
  },
  {
   "cell_type": "code",
   "execution_count": 14,
   "metadata": {
    "colab": {
     "base_uri": "https://localhost:8080/"
    },
    "executionInfo": {
     "elapsed": 14,
     "status": "ok",
     "timestamp": 1705770091347,
     "user": {
      "displayName": "Kseniia Zolina",
      "userId": "13172448315061697825"
     },
     "user_tz": -180
    },
    "id": "LnYrrU_VwvXA",
    "outputId": "8713499f-db48-4d6c-cd12-f85eaa3826aa"
   },
   "outputs": [
    {
     "data": {
      "text/plain": [
       "{'Unnamed: 0': 1,\n",
       " 'attack_type': 'Melee',\n",
       " 'id': 2,\n",
       " 'legs': 2,\n",
       " 'localized_name': 'Axe',\n",
       " 'name': 'npc_dota_hero_axe',\n",
       " 'primary_attr': 'str',\n",
       " 'roles': \"['Initiator', 'Durable', 'Disabler', 'Jungler']\"}"
      ]
     },
     "execution_count": 14,
     "metadata": {},
     "output_type": "execute_result"
    }
   ],
   "source": [
    "df_as_dict[1]"
   ]
  },
  {
   "cell_type": "code",
   "execution_count": 15,
   "metadata": {
    "colab": {
     "base_uri": "https://localhost:8080/"
    },
    "executionInfo": {
     "elapsed": 12,
     "status": "ok",
     "timestamp": 1705770091347,
     "user": {
      "displayName": "Kseniia Zolina",
      "userId": "13172448315061697825"
     },
     "user_tz": -180
    },
    "id": "hH-Hrm5Luj0C",
    "outputId": "3486268a-4f31-494f-e10d-e1d6ab583c24"
   },
   "outputs": [
    {
     "data": {
      "text/plain": [
       "0.4444444444444444"
      ]
     },
     "execution_count": 15,
     "metadata": {},
     "output_type": "execute_result"
    }
   ],
   "source": [
    "diff_metric(df_as_dict[0], df_as_dict[1])"
   ]
  },
  {
   "cell_type": "code",
   "execution_count": 16,
   "metadata": {
    "colab": {
     "base_uri": "https://localhost:8080/"
    },
    "executionInfo": {
     "elapsed": 8,
     "status": "ok",
     "timestamp": 1705770091671,
     "user": {
      "displayName": "Kseniia Zolina",
      "userId": "13172448315061697825"
     },
     "user_tz": -180
    },
    "id": "q740-j3bzUfI",
    "outputId": "91607e34-6bdb-4303-a397-ff4804b5c027"
   },
   "outputs": [
    {
     "data": {
      "text/plain": [
       "116"
      ]
     },
     "execution_count": 16,
     "metadata": {},
     "output_type": "execute_result"
    }
   ],
   "source": [
    "df_size = len(list(df_as_dict.keys()))-1\n",
    "df_size"
   ]
  },
  {
   "cell_type": "code",
   "execution_count": 17,
   "metadata": {
    "colab": {
     "base_uri": "https://localhost:8080/"
    },
    "executionInfo": {
     "elapsed": 8,
     "status": "ok",
     "timestamp": 1705770091672,
     "user": {
      "displayName": "Kseniia Zolina",
      "userId": "13172448315061697825"
     },
     "user_tz": -180
    },
    "id": "E_8T-ZJGvD4S",
    "outputId": "32b1beaf-fa8a-4ccd-ab93-9375e109ac95"
   },
   "outputs": [
    {
     "name": "stdout",
     "output_type": "stream",
     "text": [
      "0.027777777777777776\n",
      "[17, 18]\n"
     ]
    }
   ],
   "source": [
    "min_diff = 1\n",
    "ans = []\n",
    "for i in range(df_size):\n",
    "    for j in (i + 1, df_size):\n",
    "        cur_diff = diff_metric(df_as_dict[i], df_as_dict[j])\n",
    "        if cur_diff < min_diff:\n",
    "            min_diff = cur_diff\n",
    "            ans = [i, j]\n",
    "print(min_diff)\n",
    "print(ans)"
   ]
  },
  {
   "cell_type": "code",
   "execution_count": 18,
   "metadata": {
    "colab": {
     "base_uri": "https://localhost:8080/"
    },
    "executionInfo": {
     "elapsed": 7,
     "status": "ok",
     "timestamp": 1705770091672,
     "user": {
      "displayName": "Kseniia Zolina",
      "userId": "13172448315061697825"
     },
     "user_tz": -180
    },
    "id": "XlpsorAAz4kl",
    "outputId": "9cfcfa4a-8a4d-415d-a4a0-a599e5024148"
   },
   "outputs": [
    {
     "data": {
      "text/plain": [
       "{'Unnamed: 0': 17,\n",
       " 'attack_type': 'Melee',\n",
       " 'id': 18,\n",
       " 'legs': 2,\n",
       " 'localized_name': 'Sven',\n",
       " 'name': 'npc_dota_hero_sven',\n",
       " 'primary_attr': 'str',\n",
       " 'roles': \"['Carry', 'Disabler', 'Initiator', 'Durable', 'Nuker']\"}"
      ]
     },
     "execution_count": 18,
     "metadata": {},
     "output_type": "execute_result"
    }
   ],
   "source": [
    "df_as_dict[17]"
   ]
  },
  {
   "cell_type": "code",
   "execution_count": 19,
   "metadata": {
    "colab": {
     "base_uri": "https://localhost:8080/"
    },
    "executionInfo": {
     "elapsed": 6,
     "status": "ok",
     "timestamp": 1705770091672,
     "user": {
      "displayName": "Kseniia Zolina",
      "userId": "13172448315061697825"
     },
     "user_tz": -180
    },
    "id": "91HOgssxz8my",
    "outputId": "9a2d3c99-0c09-4efb-e4fd-86d4cb3357f3"
   },
   "outputs": [
    {
     "data": {
      "text/plain": [
       "{'Unnamed: 0': 18,\n",
       " 'attack_type': 'Melee',\n",
       " 'id': 19,\n",
       " 'legs': 2,\n",
       " 'localized_name': 'Tiny',\n",
       " 'name': 'npc_dota_hero_tiny',\n",
       " 'primary_attr': 'str',\n",
       " 'roles': \"['Carry', 'Nuker', 'Pusher', 'Initiator', 'Durable', 'Disabler']\"}"
      ]
     },
     "execution_count": 19,
     "metadata": {},
     "output_type": "execute_result"
    }
   ],
   "source": [
    "df_as_dict[18]"
   ]
  },
  {
   "cell_type": "code",
   "execution_count": 19,
   "metadata": {
    "executionInfo": {
     "elapsed": 5,
     "status": "ok",
     "timestamp": 1705770091672,
     "user": {
      "displayName": "Kseniia Zolina",
      "userId": "13172448315061697825"
     },
     "user_tz": -180
    },
    "id": "_Xioty90z9uH"
   },
   "outputs": [],
   "source": []
  }
 ],
 "metadata": {
  "colab": {
   "authorship_tag": "ABX9TyNZPERZvu+l8UQnpuaDDP+E",
   "mount_file_id": "1TPH3ByFSesH3108XzNdwfKfT9Ye582wx",
   "provenance": []
  },
  "kernelspec": {
   "display_name": "Python 3 (ipykernel)",
   "language": "python",
   "name": "python3"
  },
  "language_info": {
   "codemirror_mode": {
    "name": "ipython",
    "version": 3
   },
   "file_extension": ".py",
   "mimetype": "text/x-python",
   "name": "python",
   "nbconvert_exporter": "python",
   "pygments_lexer": "ipython3",
   "version": "3.11.7"
  }
 },
 "nbformat": 4,
 "nbformat_minor": 4
}
