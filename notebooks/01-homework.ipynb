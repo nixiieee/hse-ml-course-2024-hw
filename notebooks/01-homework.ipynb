{
 "cells": [
  {
   "cell_type": "markdown",
   "metadata": {
    "id": "J6NemoqujCXA"
   },
   "source": [
    "# Easy"
   ]
  },
  {
   "cell_type": "code",
   "execution_count": 1,
   "metadata": {
    "executionInfo": {
     "elapsed": 983,
     "status": "ok",
     "timestamp": 1705770090720,
     "user": {
      "displayName": "Kseniia Zolina",
      "userId": "13172448315061697825"
     },
     "user_tz": -180
    },
    "id": "V_OgsxqhjACX"
   },
   "outputs": [],
   "source": [
    "def func(input_list : list) -> dict:\n",
    "    if len(input_list) == 0: # если список пустой\n",
    "        return { 'mean' : 0, 'median' : 0, 'mode' : 0 }\n",
    "    result = dict()\n",
    "    frequency = dict()\n",
    "    sum_of_list = 0\n",
    "    for i in range(len(input_list)):\n",
    "        sum_of_list += input_list[i]\n",
    "        if input_list[i] in frequency.keys():\n",
    "            frequency[input_list[i]] += 1\n",
    "        else:\n",
    "            frequency[input_list[i]] = 1\n",
    "    result['mean'] = sum_of_list / len(input_list)\n",
    "    input_list.sort()\n",
    "    if len(input_list) % 2 == 0:\n",
    "        result['median'] = (input_list[len(input_list) // 2] + input_list[len(input_list) // 2 - 1]) / 2\n",
    "    else: \n",
    "        result['median'] = input_list[len(input_list) // 2]\n",
    "    biggest_frequency = frequency[input_list[0]]\n",
    "    result['mode'] = input_list[0]\n",
    "    for i in frequency.keys():\n",
    "        if frequency[i] > biggest_frequency:\n",
    "            biggest_frequency = frequency[i]\n",
    "            result['mode'] = i\n",
    "    return result"
   ]
  },
  {
   "cell_type": "code",
   "execution_count": 2,
   "metadata": {
    "colab": {
     "base_uri": "https://localhost:8080/"
    },
    "executionInfo": {
     "elapsed": 11,
     "status": "ok",
     "timestamp": 1705770090721,
     "user": {
      "displayName": "Kseniia Zolina",
      "userId": "13172448315061697825"
     },
     "user_tz": -180
    },
    "id": "cW-VBtVckFFm",
    "outputId": "18d39226-592a-4325-b467-31a9cf92a403"
   },
   "outputs": [
    {
     "data": {
      "text/plain": [
       "{'mean': 3.4285714285714284, 'median': 3, 'mode': 1}"
      ]
     },
     "execution_count": 2,
     "metadata": {},
     "output_type": "execute_result"
    }
   ],
   "source": [
    "func([0, 1, 1, 10, 5, 4, 3])"
   ]
  },
  {
   "cell_type": "code",
   "execution_count": 3,
   "metadata": {},
   "outputs": [
    {
     "data": {
      "text/plain": [
       "{'mean': 3.5, 'median': 2.5, 'mode': 1}"
      ]
     },
     "execution_count": 3,
     "metadata": {},
     "output_type": "execute_result"
    }
   ],
   "source": [
    "func([0, 1, 1, 10, 5, 4])"
   ]
  },
  {
   "cell_type": "code",
   "execution_count": 4,
   "metadata": {
    "colab": {
     "base_uri": "https://localhost:8080/"
    },
    "executionInfo": {
     "elapsed": 9,
     "status": "ok",
     "timestamp": 1705770090722,
     "user": {
      "displayName": "Kseniia Zolina",
      "userId": "13172448315061697825"
     },
     "user_tz": -180
    },
    "id": "wyrr5BpUkpy4",
    "outputId": "5d0384ff-5a1c-4b82-cbcd-92915a570f4b"
   },
   "outputs": [
    {
     "data": {
      "text/plain": [
       "{'mean': 0, 'median': 0, 'mode': 0}"
      ]
     },
     "execution_count": 4,
     "metadata": {},
     "output_type": "execute_result"
    }
   ],
   "source": [
    "func([])"
   ]
  },
  {
   "cell_type": "markdown",
   "metadata": {
    "id": "qTyrS_3hkNDE"
   },
   "source": [
    "# Medium"
   ]
  },
  {
   "cell_type": "code",
   "execution_count": 5,
   "metadata": {
    "executionInfo": {
     "elapsed": 628,
     "status": "ok",
     "timestamp": 1705770091345,
     "user": {
      "displayName": "Kseniia Zolina",
      "userId": "13172448315061697825"
     },
     "user_tz": -180
    },
    "id": "_WQ29OfPlB4X"
   },
   "outputs": [],
   "source": [
    "def parse_csv(file_content: str) -> list[dict]:\n",
    "    result = list()\n",
    "    with open('../data/dota_hero_stats.csv', 'r') as file:\n",
    "        df = file.readlines()\n",
    "    headings = df[0].split(',')\n",
    "    headings[-1] = headings[-1][:-1] # обрезаем \\n\n",
    "    for i in range(1, len(df)):\n",
    "        d = dict()\n",
    "        current_line = df[i].split(',')\n",
    "        for j in range(1, 7):\n",
    "            if j == 2 or j == 3:\n",
    "                d[headings[j]] = int(current_line[j])\n",
    "            else: \n",
    "                d[headings[j]] = current_line[j]\n",
    "        d[headings[-1]] = df[i][df[i].find('[')+2:df[i].find(']')-1].split(\"', '\")\n",
    "        result.append(d)\n",
    "    return result"
   ]
  },
  {
   "cell_type": "code",
   "execution_count": 6,
   "metadata": {},
   "outputs": [
    {
     "name": "stdout",
     "output_type": "stream",
     "text": [
      "{'attack_type': 'Melee', 'id': 1, 'legs': 2, 'localized_name': 'Anti-Mage', 'name': 'npc_dota_hero_antimage', 'primary_attr': 'agi', 'roles': ['Carry', 'Escape', 'Nuker']}\n"
     ]
    }
   ],
   "source": [
    "parsed_stats = parse_csv('../data/dota_hero_stats.csv')\n",
    "print(parsed_stats[0])"
   ]
  },
  {
   "cell_type": "code",
   "execution_count": 7,
   "metadata": {
    "colab": {
     "base_uri": "https://localhost:8080/"
    },
    "executionInfo": {
     "elapsed": 30,
     "status": "ok",
     "timestamp": 1705770091345,
     "user": {
      "displayName": "Kseniia Zolina",
      "userId": "13172448315061697825"
     },
     "user_tz": -180
    },
    "id": "sDBxGx0rmd9l",
    "outputId": "325bf9b3-ae02-4a57-9e84-9f66886f134c"
   },
   "outputs": [
    {
     "name": "stdout",
     "output_type": "stream",
     "text": [
      "{'attack_type': 'Melee', 'id': 61, 'legs': 8, 'localized_name': 'Broodmother', 'name': 'npc_dota_hero_broodmother', 'primary_attr': 'agi', 'roles': ['Carry', 'Pusher', 'Escape', 'Nuker']}\n"
     ]
    }
   ],
   "source": [
    "max_legs = parsed_stats[0]['legs']\n",
    "id = 0\n",
    "for i in range(len(parsed_stats)):\n",
    "    if max_legs < parsed_stats[i]['legs']:\n",
    "        max_legs = parsed_stats[i]['legs']\n",
    "        id = i\n",
    "print(parsed_stats[id])"
   ]
  },
  {
   "cell_type": "markdown",
   "metadata": {
    "id": "-mISlAVmqzgb"
   },
   "source": [
    "# Hard"
   ]
  },
  {
   "cell_type": "markdown",
   "metadata": {
    "id": "bycJRXVGq1d5"
   },
   "source": [
    "Мера близости между персонажами - вещественное число от 0 до 1, где 0 значит, что персонажи идентичны, а 1 - не имеют ни одной общей черты. \"Штраф\" за непохожесть между двумя персонажами начисляется следущим образом:\n",
    "\n",
    "1. **attack_type**: 0/1 - совпадает/не совпадает\n",
    "2. **legs**: разница между количеством ног / 8, вещественное число от 0 до 1\n",
    "3. **primary_attr**: 0/1 - совпадает/не совпадает\n",
    "4. **roles**:  за каждую роль, которая есть у одного персонажа и нет у другого, начисляется 1 балл. Сумма баллов делится на 9, получаем вещественное число от 0 до 1\n",
    "\n",
    "Результат = сумма баллов за все пункты / 4\n",
    "\n"
   ]
  },
  {
   "cell_type": "code",
   "execution_count": 8,
   "metadata": {
    "executionInfo": {
     "elapsed": 22,
     "status": "ok",
     "timestamp": 1705770091346,
     "user": {
      "displayName": "Kseniia Zolina",
      "userId": "13172448315061697825"
     },
     "user_tz": -180
    },
    "id": "GIFiTrf3uey7"
   },
   "outputs": [
    {
     "name": "stderr",
     "output_type": "stream",
     "text": [
      "/tmp/ipykernel_205882/4080736814.py:1: DeprecationWarning: \n",
      "Pyarrow will become a required dependency of pandas in the next major release of pandas (pandas 3.0),\n",
      "(to allow more performant data types, such as the Arrow string type, and better interoperability with other libraries)\n",
      "but was not found to be installed on your system.\n",
      "If this would cause problems for you,\n",
      "please provide us feedback at https://github.com/pandas-dev/pandas/issues/54466\n",
      "        \n",
      "  import pandas as pd\n"
     ]
    }
   ],
   "source": [
    "import pandas as pd"
   ]
  },
  {
   "cell_type": "code",
   "execution_count": 9,
   "metadata": {
    "executionInfo": {
     "elapsed": 21,
     "status": "ok",
     "timestamp": 1705770091346,
     "user": {
      "displayName": "Kseniia Zolina",
      "userId": "13172448315061697825"
     },
     "user_tz": -180
    },
    "id": "kMhGqTnzw6uD"
   },
   "outputs": [],
   "source": [
    "def parse_string(string : str) -> list:\n",
    "    if len(string) == 0:\n",
    "        return []\n",
    "    string = string[1:-1]\n",
    "    result = string.split(', ')\n",
    "    return result"
   ]
  },
  {
   "cell_type": "code",
   "execution_count": 10,
   "metadata": {
    "executionInfo": {
     "elapsed": 20,
     "status": "ok",
     "timestamp": 1705770091346,
     "user": {
      "displayName": "Kseniia Zolina",
      "userId": "13172448315061697825"
     },
     "user_tz": -180
    },
    "id": "a7zBabghq0hM"
   },
   "outputs": [],
   "source": [
    "def diff_metric(hero_a : pd.DataFrame, hero_b : pd.DataFrame) -> float:\n",
    "    result = 0\n",
    "    result += int(not(hero_a['attack_type'] == hero_b['attack_type'])) + int(not(hero_a['primary_attr'] == hero_b['primary_attr']))\n",
    "    result += abs(hero_a['legs'] - hero_b['legs']) / 8\n",
    "    roles_a = parse_string(hero_a['roles'])\n",
    "    roles_b = parse_string(hero_b['roles'])\n",
    "    roles_diff = 0\n",
    "    for role in roles_a:\n",
    "        if role not in roles_b:\n",
    "            roles_diff += 1\n",
    "    for role in roles_b:\n",
    "        if role not in roles_a:\n",
    "            roles_diff += 1\n",
    "    result += roles_diff / 9\n",
    "    return result / 4"
   ]
  },
  {
   "cell_type": "code",
   "execution_count": 11,
   "metadata": {
    "colab": {
     "base_uri": "https://localhost:8080/",
     "height": 206
    },
    "executionInfo": {
     "elapsed": 20,
     "status": "ok",
     "timestamp": 1705770091346,
     "user": {
      "displayName": "Kseniia Zolina",
      "userId": "13172448315061697825"
     },
     "user_tz": -180
    },
    "id": "8X1bqZK8srzU",
    "outputId": "3219f729-8ae5-4566-fad7-53de3655a850"
   },
   "outputs": [
    {
     "data": {
      "text/html": [
       "<div>\n",
       "<style scoped>\n",
       "    .dataframe tbody tr th:only-of-type {\n",
       "        vertical-align: middle;\n",
       "    }\n",
       "\n",
       "    .dataframe tbody tr th {\n",
       "        vertical-align: top;\n",
       "    }\n",
       "\n",
       "    .dataframe thead th {\n",
       "        text-align: right;\n",
       "    }\n",
       "</style>\n",
       "<table border=\"1\" class=\"dataframe\">\n",
       "  <thead>\n",
       "    <tr style=\"text-align: right;\">\n",
       "      <th></th>\n",
       "      <th>Unnamed: 0</th>\n",
       "      <th>attack_type</th>\n",
       "      <th>id</th>\n",
       "      <th>legs</th>\n",
       "      <th>localized_name</th>\n",
       "      <th>name</th>\n",
       "      <th>primary_attr</th>\n",
       "      <th>roles</th>\n",
       "    </tr>\n",
       "  </thead>\n",
       "  <tbody>\n",
       "    <tr>\n",
       "      <th>0</th>\n",
       "      <td>0</td>\n",
       "      <td>Melee</td>\n",
       "      <td>1</td>\n",
       "      <td>2</td>\n",
       "      <td>Anti-Mage</td>\n",
       "      <td>npc_dota_hero_antimage</td>\n",
       "      <td>agi</td>\n",
       "      <td>['Carry', 'Escape', 'Nuker']</td>\n",
       "    </tr>\n",
       "    <tr>\n",
       "      <th>1</th>\n",
       "      <td>1</td>\n",
       "      <td>Melee</td>\n",
       "      <td>2</td>\n",
       "      <td>2</td>\n",
       "      <td>Axe</td>\n",
       "      <td>npc_dota_hero_axe</td>\n",
       "      <td>str</td>\n",
       "      <td>['Initiator', 'Durable', 'Disabler', 'Jungler']</td>\n",
       "    </tr>\n",
       "    <tr>\n",
       "      <th>2</th>\n",
       "      <td>2</td>\n",
       "      <td>Ranged</td>\n",
       "      <td>3</td>\n",
       "      <td>4</td>\n",
       "      <td>Bane</td>\n",
       "      <td>npc_dota_hero_bane</td>\n",
       "      <td>int</td>\n",
       "      <td>['Support', 'Disabler', 'Nuker', 'Durable']</td>\n",
       "    </tr>\n",
       "    <tr>\n",
       "      <th>3</th>\n",
       "      <td>3</td>\n",
       "      <td>Melee</td>\n",
       "      <td>4</td>\n",
       "      <td>2</td>\n",
       "      <td>Bloodseeker</td>\n",
       "      <td>npc_dota_hero_bloodseeker</td>\n",
       "      <td>agi</td>\n",
       "      <td>['Carry', 'Disabler', 'Jungler', 'Nuker', 'Ini...</td>\n",
       "    </tr>\n",
       "    <tr>\n",
       "      <th>4</th>\n",
       "      <td>4</td>\n",
       "      <td>Ranged</td>\n",
       "      <td>5</td>\n",
       "      <td>2</td>\n",
       "      <td>Crystal Maiden</td>\n",
       "      <td>npc_dota_hero_crystal_maiden</td>\n",
       "      <td>int</td>\n",
       "      <td>['Support', 'Disabler', 'Nuker', 'Jungler']</td>\n",
       "    </tr>\n",
       "  </tbody>\n",
       "</table>\n",
       "</div>"
      ],
      "text/plain": [
       "   Unnamed: 0 attack_type  id  legs  localized_name  \\\n",
       "0           0       Melee   1     2       Anti-Mage   \n",
       "1           1       Melee   2     2             Axe   \n",
       "2           2      Ranged   3     4            Bane   \n",
       "3           3       Melee   4     2     Bloodseeker   \n",
       "4           4      Ranged   5     2  Crystal Maiden   \n",
       "\n",
       "                           name primary_attr  \\\n",
       "0        npc_dota_hero_antimage          agi   \n",
       "1             npc_dota_hero_axe          str   \n",
       "2            npc_dota_hero_bane          int   \n",
       "3     npc_dota_hero_bloodseeker          agi   \n",
       "4  npc_dota_hero_crystal_maiden          int   \n",
       "\n",
       "                                               roles  \n",
       "0                       ['Carry', 'Escape', 'Nuker']  \n",
       "1    ['Initiator', 'Durable', 'Disabler', 'Jungler']  \n",
       "2        ['Support', 'Disabler', 'Nuker', 'Durable']  \n",
       "3  ['Carry', 'Disabler', 'Jungler', 'Nuker', 'Ini...  \n",
       "4        ['Support', 'Disabler', 'Nuker', 'Jungler']  "
      ]
     },
     "execution_count": 11,
     "metadata": {},
     "output_type": "execute_result"
    }
   ],
   "source": [
    "with open('../data/dota_hero_stats.csv', 'r') as file:\n",
    "    df = pd.read_csv(file)\n",
    "df.head()"
   ]
  },
  {
   "cell_type": "code",
   "execution_count": 12,
   "metadata": {
    "executionInfo": {
     "elapsed": 18,
     "status": "ok",
     "timestamp": 1705770091346,
     "user": {
      "displayName": "Kseniia Zolina",
      "userId": "13172448315061697825"
     },
     "user_tz": -180
    },
    "id": "NERerl1Lt-TL"
   },
   "outputs": [],
   "source": [
    "df_as_dict = df.to_dict(orient='index')"
   ]
  },
  {
   "cell_type": "code",
   "execution_count": 13,
   "metadata": {
    "colab": {
     "base_uri": "https://localhost:8080/"
    },
    "executionInfo": {
     "elapsed": 18,
     "status": "ok",
     "timestamp": 1705770091347,
     "user": {
      "displayName": "Kseniia Zolina",
      "userId": "13172448315061697825"
     },
     "user_tz": -180
    },
    "id": "7eX1g1OVt_ma",
    "outputId": "fd9ac101-d858-465b-abb8-68f4e78cbe60"
   },
   "outputs": [
    {
     "data": {
      "text/plain": [
       "{'Unnamed: 0': 0,\n",
       " 'attack_type': 'Melee',\n",
       " 'id': 1,\n",
       " 'legs': 2,\n",
       " 'localized_name': 'Anti-Mage',\n",
       " 'name': 'npc_dota_hero_antimage',\n",
       " 'primary_attr': 'agi',\n",
       " 'roles': \"['Carry', 'Escape', 'Nuker']\"}"
      ]
     },
     "execution_count": 13,
     "metadata": {},
     "output_type": "execute_result"
    }
   ],
   "source": [
    "df_as_dict[0]"
   ]
  },
  {
   "cell_type": "code",
   "execution_count": 14,
   "metadata": {
    "colab": {
     "base_uri": "https://localhost:8080/"
    },
    "executionInfo": {
     "elapsed": 14,
     "status": "ok",
     "timestamp": 1705770091347,
     "user": {
      "displayName": "Kseniia Zolina",
      "userId": "13172448315061697825"
     },
     "user_tz": -180
    },
    "id": "LnYrrU_VwvXA",
    "outputId": "8713499f-db48-4d6c-cd12-f85eaa3826aa"
   },
   "outputs": [
    {
     "data": {
      "text/plain": [
       "{'Unnamed: 0': 1,\n",
       " 'attack_type': 'Melee',\n",
       " 'id': 2,\n",
       " 'legs': 2,\n",
       " 'localized_name': 'Axe',\n",
       " 'name': 'npc_dota_hero_axe',\n",
       " 'primary_attr': 'str',\n",
       " 'roles': \"['Initiator', 'Durable', 'Disabler', 'Jungler']\"}"
      ]
     },
     "execution_count": 14,
     "metadata": {},
     "output_type": "execute_result"
    }
   ],
   "source": [
    "df_as_dict[1]"
   ]
  },
  {
   "cell_type": "code",
   "execution_count": 15,
   "metadata": {
    "colab": {
     "base_uri": "https://localhost:8080/"
    },
    "executionInfo": {
     "elapsed": 12,
     "status": "ok",
     "timestamp": 1705770091347,
     "user": {
      "displayName": "Kseniia Zolina",
      "userId": "13172448315061697825"
     },
     "user_tz": -180
    },
    "id": "hH-Hrm5Luj0C",
    "outputId": "3486268a-4f31-494f-e10d-e1d6ab583c24"
   },
   "outputs": [
    {
     "data": {
      "text/plain": [
       "0.4444444444444444"
      ]
     },
     "execution_count": 15,
     "metadata": {},
     "output_type": "execute_result"
    }
   ],
   "source": [
    "diff_metric(df_as_dict[0], df_as_dict[1])"
   ]
  },
  {
   "cell_type": "code",
   "execution_count": 16,
   "metadata": {
    "colab": {
     "base_uri": "https://localhost:8080/"
    },
    "executionInfo": {
     "elapsed": 8,
     "status": "ok",
     "timestamp": 1705770091671,
     "user": {
      "displayName": "Kseniia Zolina",
      "userId": "13172448315061697825"
     },
     "user_tz": -180
    },
    "id": "q740-j3bzUfI",
    "outputId": "91607e34-6bdb-4303-a397-ff4804b5c027"
   },
   "outputs": [
    {
     "data": {
      "text/plain": [
       "116"
      ]
     },
     "execution_count": 16,
     "metadata": {},
     "output_type": "execute_result"
    }
   ],
   "source": [
    "df_size = len(list(df_as_dict.keys()))-1\n",
    "df_size"
   ]
  },
  {
   "cell_type": "code",
   "execution_count": 17,
   "metadata": {
    "colab": {
     "base_uri": "https://localhost:8080/"
    },
    "executionInfo": {
     "elapsed": 8,
     "status": "ok",
     "timestamp": 1705770091672,
     "user": {
      "displayName": "Kseniia Zolina",
      "userId": "13172448315061697825"
     },
     "user_tz": -180
    },
    "id": "E_8T-ZJGvD4S",
    "outputId": "32b1beaf-fa8a-4ccd-ab93-9375e109ac95"
   },
   "outputs": [
    {
     "name": "stdout",
     "output_type": "stream",
     "text": [
      "0.027777777777777776\n",
      "[17, 18]\n"
     ]
    }
   ],
   "source": [
    "min_diff = 1\n",
    "ans = []\n",
    "for i in range(df_size):\n",
    "    for j in (i + 1, df_size):\n",
    "        cur_diff = diff_metric(df_as_dict[i], df_as_dict[j])\n",
    "        if cur_diff < min_diff:\n",
    "            min_diff = cur_diff\n",
    "            ans = [i, j]\n",
    "print(min_diff)\n",
    "print(ans)"
   ]
  },
  {
   "cell_type": "code",
   "execution_count": 18,
   "metadata": {
    "colab": {
     "base_uri": "https://localhost:8080/"
    },
    "executionInfo": {
     "elapsed": 7,
     "status": "ok",
     "timestamp": 1705770091672,
     "user": {
      "displayName": "Kseniia Zolina",
      "userId": "13172448315061697825"
     },
     "user_tz": -180
    },
    "id": "XlpsorAAz4kl",
    "outputId": "9cfcfa4a-8a4d-415d-a4a0-a599e5024148"
   },
   "outputs": [
    {
     "data": {
      "text/plain": [
       "{'Unnamed: 0': 17,\n",
       " 'attack_type': 'Melee',\n",
       " 'id': 18,\n",
       " 'legs': 2,\n",
       " 'localized_name': 'Sven',\n",
       " 'name': 'npc_dota_hero_sven',\n",
       " 'primary_attr': 'str',\n",
       " 'roles': \"['Carry', 'Disabler', 'Initiator', 'Durable', 'Nuker']\"}"
      ]
     },
     "execution_count": 18,
     "metadata": {},
     "output_type": "execute_result"
    }
   ],
   "source": [
    "df_as_dict[17]"
   ]
  },
  {
   "cell_type": "code",
   "execution_count": 19,
   "metadata": {
    "colab": {
     "base_uri": "https://localhost:8080/"
    },
    "executionInfo": {
     "elapsed": 6,
     "status": "ok",
     "timestamp": 1705770091672,
     "user": {
      "displayName": "Kseniia Zolina",
      "userId": "13172448315061697825"
     },
     "user_tz": -180
    },
    "id": "91HOgssxz8my",
    "outputId": "9a2d3c99-0c09-4efb-e4fd-86d4cb3357f3"
   },
   "outputs": [
    {
     "data": {
      "text/plain": [
       "{'Unnamed: 0': 18,\n",
       " 'attack_type': 'Melee',\n",
       " 'id': 19,\n",
       " 'legs': 2,\n",
       " 'localized_name': 'Tiny',\n",
       " 'name': 'npc_dota_hero_tiny',\n",
       " 'primary_attr': 'str',\n",
       " 'roles': \"['Carry', 'Nuker', 'Pusher', 'Initiator', 'Durable', 'Disabler']\"}"
      ]
     },
     "execution_count": 19,
     "metadata": {},
     "output_type": "execute_result"
    }
   ],
   "source": [
    "df_as_dict[18]"
   ]
  },
  {
   "cell_type": "code",
   "execution_count": null,
   "metadata": {
    "executionInfo": {
     "elapsed": 5,
     "status": "ok",
     "timestamp": 1705770091672,
     "user": {
      "displayName": "Kseniia Zolina",
      "userId": "13172448315061697825"
     },
     "user_tz": -180
    },
    "id": "_Xioty90z9uH"
   },
   "outputs": [],
   "source": []
  }
 ],
 "metadata": {
  "colab": {
   "authorship_tag": "ABX9TyNZPERZvu+l8UQnpuaDDP+E",
   "mount_file_id": "1TPH3ByFSesH3108XzNdwfKfT9Ye582wx",
   "provenance": []
  },
  "kernelspec": {
   "display_name": "Python 3 (ipykernel)",
   "language": "python",
   "name": "python3"
  },
  "language_info": {
   "codemirror_mode": {
    "name": "ipython",
    "version": 3
   },
   "file_extension": ".py",
   "mimetype": "text/x-python",
   "name": "python",
   "nbconvert_exporter": "python",
   "pygments_lexer": "ipython3",
   "version": "3.11.7"
  }
 },
 "nbformat": 4,
 "nbformat_minor": 4
}
