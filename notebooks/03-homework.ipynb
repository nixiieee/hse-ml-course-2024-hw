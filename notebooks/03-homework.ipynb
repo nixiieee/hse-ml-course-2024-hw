{
 "cells": [
  {
   "cell_type": "code",
   "execution_count": 1,
   "id": "da8b8b66-c64e-4345-a181-48e511f6399b",
   "metadata": {},
   "outputs": [
    {
     "name": "stderr",
     "output_type": "stream",
     "text": [
      "/tmp/ipykernel_13280/2974619336.py:1: DeprecationWarning: \n",
      "Pyarrow will become a required dependency of pandas in the next major release of pandas (pandas 3.0),\n",
      "(to allow more performant data types, such as the Arrow string type, and better interoperability with other libraries)\n",
      "but was not found to be installed on your system.\n",
      "If this would cause problems for you,\n",
      "please provide us feedback at https://github.com/pandas-dev/pandas/issues/54466\n",
      "        \n",
      "  import pandas as pd\n"
     ]
    }
   ],
   "source": [
    "import pandas as pd\n",
    "import numpy as np\n",
    "import seaborn as sns\n",
    "\n",
    "from sklearn.linear_model import LogisticRegression\n",
    "from sklearn.model_selection import train_test_split\n",
    "from sklearn.neighbors import KNeighborsClassifier\n",
    "from sklearn.naive_bayes import MultinomialNB\n",
    "from sklearn.svm import SVC\n",
    "from sklearn.metrics import accuracy_score, f1_score, balanced_accuracy_score"
   ]
  },
  {
   "cell_type": "markdown",
   "id": "2c2ed431-bb93-4355-ac58-3dadf6ed0af2",
   "metadata": {},
   "source": [
    "# Easy"
   ]
  },
  {
   "cell_type": "code",
   "execution_count": 2,
   "id": "b9d04127-e4e6-4c4a-b01f-f0d900da04eb",
   "metadata": {},
   "outputs": [],
   "source": [
    "data_train = pd.read_pickle('../data/train.pickle')\n",
    "x_train = data_train['features']\n",
    "y_train = data_train['labels']\n",
    "\n",
    "data_test = pd.read_pickle('../data/test.pickle')\n",
    "x_test = data_test['features']\n",
    "y_test = data_test['labels']"
   ]
  },
  {
   "cell_type": "code",
   "execution_count": 3,
   "id": "a33322d6-3b2b-4740-987f-38ee9d27ad76",
   "metadata": {},
   "outputs": [
    {
     "data": {
      "text/plain": [
       "(34799, 32, 32, 3)"
      ]
     },
     "execution_count": 3,
     "metadata": {},
     "output_type": "execute_result"
    }
   ],
   "source": [
    "x_train.shape"
   ]
  },
  {
   "cell_type": "code",
   "execution_count": 4,
   "id": "c528e4f3-800f-400d-bba8-19717be5bfba",
   "metadata": {},
   "outputs": [],
   "source": [
    "x_train = x_train.reshape(x_train.shape[0], -1)\n",
    "x_test = x_test.reshape(x_test.shape[0], -1)"
   ]
  },
  {
   "cell_type": "code",
   "execution_count": 5,
   "id": "fcc60f85-ddf3-493b-af61-c6b69c252af3",
   "metadata": {},
   "outputs": [
    {
     "data": {
      "text/plain": [
       "['Speed limit (20km/h)',\n",
       " 'Speed limit (30km/h)',\n",
       " 'Speed limit (50km/h)',\n",
       " 'Speed limit (60km/h)',\n",
       " 'Speed limit (70km/h)',\n",
       " 'Speed limit (80km/h)',\n",
       " 'End of speed limit (80km/h)',\n",
       " 'Speed limit (100km/h)',\n",
       " 'Speed limit (120km/h)',\n",
       " 'No passing',\n",
       " 'No passing for vehicles over 3.5 metric tons',\n",
       " 'Right-of-way at the next intersection',\n",
       " 'Priority road',\n",
       " 'Yield',\n",
       " 'Stop',\n",
       " 'No vehicles',\n",
       " 'Vehicles over 3.5 metric tons prohibited',\n",
       " 'No entry',\n",
       " 'General caution',\n",
       " 'Dangerous curve to the left',\n",
       " 'Dangerous curve to the right',\n",
       " 'Double curve',\n",
       " 'Bumpy road',\n",
       " 'Slippery road',\n",
       " 'Road narrows on the right',\n",
       " 'Road work',\n",
       " 'Traffic signals',\n",
       " 'Pedestrians',\n",
       " 'Children crossing',\n",
       " 'Bicycles crossing',\n",
       " 'Beware of ice/snow',\n",
       " 'Wild animals crossing',\n",
       " 'End of all speed and passing limits',\n",
       " 'Turn right ahead',\n",
       " 'Turn left ahead',\n",
       " 'Ahead only',\n",
       " 'Go straight or right',\n",
       " 'Go straight or left',\n",
       " 'Keep right',\n",
       " 'Keep left',\n",
       " 'Roundabout mandatory',\n",
       " 'End of no passing',\n",
       " 'End of no passing by vehicles over 3.5 metric tons']"
      ]
     },
     "execution_count": 5,
     "metadata": {},
     "output_type": "execute_result"
    }
   ],
   "source": [
    "labels = pd.read_pickle('../data/labels.pickle')\n",
    "labels"
   ]
  },
  {
   "cell_type": "code",
   "execution_count": 6,
   "id": "9fb9b06f-50bd-4e76-8d13-c76bd603035d",
   "metadata": {},
   "outputs": [
    {
     "name": "stdout",
     "output_type": "stream",
     "text": [
      "CPU times: user 6min 24s, sys: 2min 50s, total: 9min 14s\n",
      "Wall time: 36.4 s\n"
     ]
    },
    {
     "name": "stderr",
     "output_type": "stream",
     "text": [
      "/home/nixiiee/miniconda3/envs/classical-ml/lib/python3.11/site-packages/sklearn/linear_model/_logistic.py:469: ConvergenceWarning: lbfgs failed to converge (status=1):\n",
      "STOP: TOTAL NO. of ITERATIONS REACHED LIMIT.\n",
      "\n",
      "Increase the number of iterations (max_iter) or scale the data as shown in:\n",
      "    https://scikit-learn.org/stable/modules/preprocessing.html\n",
      "Please also refer to the documentation for alternative solver options:\n",
      "    https://scikit-learn.org/stable/modules/linear_model.html#logistic-regression\n",
      "  n_iter_i = _check_optimize_result(\n"
     ]
    }
   ],
   "source": [
    "%%time\n",
    "model = LogisticRegression(max_iter=100)\n",
    "model.fit(x_train, y_train)\n",
    "y_pred_lr = model.predict(x_test)"
   ]
  },
  {
   "cell_type": "code",
   "execution_count": 7,
   "id": "31e2a58a-96b3-46c0-8164-76a98a1a77d4",
   "metadata": {},
   "outputs": [
    {
     "data": {
      "text/plain": [
       "0.7399774952886683"
      ]
     },
     "execution_count": 7,
     "metadata": {},
     "output_type": "execute_result"
    }
   ],
   "source": [
    "balanced_accuracy_score(y_test, y_pred_lr)"
   ]
  },
  {
   "cell_type": "markdown",
   "id": "2a18c932-f806-4bba-9bf3-a35bc0eb39e4",
   "metadata": {},
   "source": [
    "Balanced accuracy учитывает дисбаланс классов"
   ]
  },
  {
   "cell_type": "code",
   "execution_count": 8,
   "id": "5f993d36-c0d2-4905-805c-2d6a2c820660",
   "metadata": {},
   "outputs": [
    {
     "data": {
      "text/plain": [
       "0.7552746287483505"
      ]
     },
     "execution_count": 8,
     "metadata": {},
     "output_type": "execute_result"
    }
   ],
   "source": [
    "f1_score(y_test, y_pred_lr, average='macro')"
   ]
  },
  {
   "cell_type": "markdown",
   "id": "79daf7c9-27d8-4434-bc3e-511308f2876a",
   "metadata": {},
   "source": [
    "Обоснование выбора метрики: метрика, которая отображает и precision, и recall, и при этом благодаря макроусреднению учитывает то, что модель может игнорировать классы, которых в датасете мало\n"
   ]
  },
  {
   "cell_type": "code",
   "execution_count": 9,
   "id": "89f43a44-933e-40f6-92a5-f3fdcbc59447",
   "metadata": {},
   "outputs": [],
   "source": [
    "mistakes = {}\n",
    "for i in range(len(y_pred_lr)):\n",
    "    if y_pred_lr[i] != y_test[i]:\n",
    "        t = [y_pred_lr[i] , y_test[i]]\n",
    "        t.sort()\n",
    "        t = tuple(t)\n",
    "        if t not in mistakes.keys():\n",
    "            mistakes[t] = 1\n",
    "        else:\n",
    "            mistakes[t] += 1"
   ]
  },
  {
   "cell_type": "code",
   "execution_count": 10,
   "id": "35238632-0f70-4118-9a2b-b44ec0eec2e4",
   "metadata": {},
   "outputs": [
    {
     "data": {
      "text/plain": [
       "(1, 2)"
      ]
     },
     "execution_count": 10,
     "metadata": {},
     "output_type": "execute_result"
    }
   ],
   "source": [
    "max(mistakes, key=mistakes.get)"
   ]
  },
  {
   "cell_type": "code",
   "execution_count": 11,
   "id": "d3a577e1-3da9-4395-8a76-4e4654fbbf70",
   "metadata": {},
   "outputs": [
    {
     "name": "stdout",
     "output_type": "stream",
     "text": [
      "Speed limit (30km/h) \n",
      "Speed limit (50km/h)\n"
     ]
    }
   ],
   "source": [
    "print(labels[1], '\\n'+labels[2]) # дорожные знаки, которые модель чаще всего путает"
   ]
  },
  {
   "cell_type": "markdown",
   "id": "b615b3ae-e532-4bca-858c-b954b29d9cd8",
   "metadata": {},
   "source": [
    "# Medium"
   ]
  },
  {
   "cell_type": "code",
   "execution_count": 12,
   "id": "4526e53b-8084-4d2a-a3ad-a3c7608e8783",
   "metadata": {},
   "outputs": [
    {
     "name": "stdout",
     "output_type": "stream",
     "text": [
      "CPU times: user 3min 29s, sys: 1min, total: 4min 29s\n",
      "Wall time: 20.5 s\n"
     ]
    }
   ],
   "source": [
    "%%time\n",
    "model = KNeighborsClassifier(n_neighbors=5)\n",
    "model.fit(x_train, y_train)\n",
    "y_pred_knn = model.predict(x_test)"
   ]
  },
  {
   "cell_type": "code",
   "execution_count": 13,
   "id": "b73915de-763d-400a-95f5-5e21451549cc",
   "metadata": {},
   "outputs": [
    {
     "data": {
      "text/plain": [
       "0.3847189231987332"
      ]
     },
     "execution_count": 13,
     "metadata": {},
     "output_type": "execute_result"
    }
   ],
   "source": [
    "accuracy_score(y_test, y_pred_knn)"
   ]
  },
  {
   "cell_type": "code",
   "execution_count": 14,
   "id": "f61c8b63-832c-42f5-a420-de11ad7cabe5",
   "metadata": {},
   "outputs": [
    {
     "name": "stdout",
     "output_type": "stream",
     "text": [
      "CPU times: user 1min 7s, sys: 302 ms, total: 1min 7s\n",
      "Wall time: 1min 7s\n"
     ]
    }
   ],
   "source": [
    "%%time\n",
    "model = MultinomialNB()\n",
    "model.fit(x_train, y_train)\n",
    "y_pred_nb = model.predict(x_test)"
   ]
  },
  {
   "cell_type": "code",
   "execution_count": 15,
   "id": "e93caa0f-1ba6-4373-8ec3-b0699a123fb4",
   "metadata": {},
   "outputs": [
    {
     "data": {
      "text/plain": [
       "0.29271575613618367"
      ]
     },
     "execution_count": 15,
     "metadata": {},
     "output_type": "execute_result"
    }
   ],
   "source": [
    "accuracy_score(y_test, y_pred_nb)"
   ]
  },
  {
   "cell_type": "code",
   "execution_count": 16,
   "id": "491012af-7773-493f-a221-8bf60b4b4eaf",
   "metadata": {},
   "outputs": [
    {
     "name": "stderr",
     "output_type": "stream",
     "text": [
      "/home/nixiiee/miniconda3/envs/classical-ml/lib/python3.11/site-packages/sklearn/svm/_base.py:297: ConvergenceWarning: Solver terminated early (max_iter=50).  Consider pre-processing your data with StandardScaler or MinMaxScaler.\n",
      "  warnings.warn(\n"
     ]
    },
    {
     "name": "stdout",
     "output_type": "stream",
     "text": [
      "CPU times: user 4min 18s, sys: 1.28 s, total: 4min 20s\n",
      "Wall time: 4min 18s\n"
     ]
    }
   ],
   "source": [
    "%%time\n",
    "model = SVC(kernel='linear', max_iter=50)\n",
    "model.fit(x_train, y_train)\n",
    "y_pred_svclin = model.predict(x_test)"
   ]
  },
  {
   "cell_type": "code",
   "execution_count": 17,
   "id": "cf1f0547-f9f0-4a74-b1e4-a10a01323b8c",
   "metadata": {},
   "outputs": [
    {
     "data": {
      "text/plain": [
       "0.5441013460015836"
      ]
     },
     "execution_count": 17,
     "metadata": {},
     "output_type": "execute_result"
    }
   ],
   "source": [
    "accuracy_score(y_test, y_pred_svclin)"
   ]
  },
  {
   "cell_type": "code",
   "execution_count": 18,
   "id": "f734edcf-c75a-4561-945a-ff4aacb8ae88",
   "metadata": {},
   "outputs": [
    {
     "name": "stderr",
     "output_type": "stream",
     "text": [
      "/home/nixiiee/miniconda3/envs/classical-ml/lib/python3.11/site-packages/sklearn/svm/_base.py:297: ConvergenceWarning: Solver terminated early (max_iter=30).  Consider pre-processing your data with StandardScaler or MinMaxScaler.\n",
      "  warnings.warn(\n"
     ]
    },
    {
     "name": "stdout",
     "output_type": "stream",
     "text": [
      "CPU times: user 3min 45s, sys: 347 ms, total: 3min 46s\n",
      "Wall time: 3min 46s\n"
     ]
    }
   ],
   "source": [
    "%%time\n",
    "model = SVC(kernel='poly', max_iter=30)\n",
    "model.fit(x_train, y_train)\n",
    "y_pred_svcpoly = model.predict(x_test)"
   ]
  },
  {
   "cell_type": "code",
   "execution_count": 19,
   "id": "9fd4680f-4dfc-4313-8e28-3b92748aea0b",
   "metadata": {},
   "outputs": [
    {
     "data": {
      "text/plain": [
       "0.06492478226444973"
      ]
     },
     "execution_count": 19,
     "metadata": {},
     "output_type": "execute_result"
    }
   ],
   "source": [
    "accuracy_score(y_test, y_pred_svcpoly)"
   ]
  },
  {
   "cell_type": "code",
   "execution_count": 20,
   "id": "6872b6f9-8c62-4167-b0de-6eab37619ff7",
   "metadata": {},
   "outputs": [
    {
     "name": "stderr",
     "output_type": "stream",
     "text": [
      "/home/nixiiee/miniconda3/envs/classical-ml/lib/python3.11/site-packages/sklearn/svm/_base.py:297: ConvergenceWarning: Solver terminated early (max_iter=30).  Consider pre-processing your data with StandardScaler or MinMaxScaler.\n",
      "  warnings.warn(\n"
     ]
    },
    {
     "name": "stdout",
     "output_type": "stream",
     "text": [
      "CPU times: user 5min 57s, sys: 372 ms, total: 5min 57s\n",
      "Wall time: 5min 57s\n"
     ]
    }
   ],
   "source": [
    "%%time\n",
    "model = SVC(kernel='rbf', max_iter=30)\n",
    "model.fit(x_train, y_train)\n",
    "y_pred_svcrbf = model.predict(x_test)"
   ]
  },
  {
   "cell_type": "code",
   "execution_count": 21,
   "id": "55458af2-8903-4f47-8464-a6f4e0bafb34",
   "metadata": {},
   "outputs": [
    {
     "data": {
      "text/plain": [
       "0.12771179730799684"
      ]
     },
     "execution_count": 21,
     "metadata": {},
     "output_type": "execute_result"
    }
   ],
   "source": [
    "accuracy_score(y_test, y_pred_svcrbf)"
   ]
  },
  {
   "cell_type": "markdown",
   "id": "8e71e6df-d5d0-454a-8707-c5fd0ed8f8ae",
   "metadata": {},
   "source": [
    "Результаты обучения логистической регрессии в задаче easy.\n",
    "\n",
    "Интерпретация:\n",
    "\n",
    "Данных много и они распределены не очень равномерно (см. график ниже), поэтому в knn соседями могли оказаться объекты, каждый из которых имеет различный тип. "
   ]
  },
  {
   "cell_type": "code",
   "execution_count": 22,
   "id": "7b46b06b-a8b2-42f3-8b34-bf0a41fd1ad7",
   "metadata": {},
   "outputs": [
    {
     "data": {
      "text/plain": [
       "<seaborn.axisgrid.FacetGrid at 0x7f604b34dc90>"
      ]
     },
     "execution_count": 22,
     "metadata": {},
     "output_type": "execute_result"
    },
    {
     "data": {
      "image/png": "[encoded data removed]",
      "text/plain": [
       "<Figure size 500x500 with 1 Axes>"
      ]
     },
     "metadata": {},
     "output_type": "display_data"
    }
   ],
   "source": [
    "sns.displot(x=list(data_train['labels']))"
   ]
  },
  {
   "cell_type": "markdown",
   "id": "1af37487-4ed6-422c-9e34-415a3f129d34",
   "metadata": {},
   "source": [
    "Наивный байес предполагает, что фичи независимы, но многие знаки имеют похожую структуру (например, запрещающие знаки все имеют круглую форму и красную полосу по краю). \n",
    "\n",
    "Возможно, данные нельзя разделить линейно, поэтому линейное ядро SVM показывает не очень высокий результат.\n",
    "Полиномиальное ядро SVM в целом менее точно.\n",
    "\n",
    "Логистическая регрессия в sklearn использует all-versus-all алгоритм по дефолту, поэтому в силу большого количества классификаторов результаты хороши."
   ]
  },
  {
   "cell_type": "markdown",
   "id": "1b424aa2-f8e5-42c7-9cb9-0edd63a5d9d4",
   "metadata": {},
   "source": [
    "# Hard"
   ]
  },
  {
   "cell_type": "markdown",
   "id": "7f4324f9-3e1e-457a-a759-230b97976b98",
   "metadata": {},
   "source": [
    "Знаем, что на 35к изображений логистическая регрессия дает неплохой результат. Число используемых картинок можно уменьшить, если использовать скрипты из dataset_preparing.py. Для этого помогут методы `local_histogram_equalization`, `transformation_brightness_rotation`, `rotation_changing`, `brightness_changing`, `rgb_to_gray_data`.\n",
    "\n",
    "Если с каждой картинкой произвести по одному изменению (и повернуть дважды или трижды), то можно уменьшить уменьшить количество используемых картинок до 5к.\n",
    "\n",
    "Некоторые из этих модификаций были применены, результаты сохранены в файлах data0.pickle, ..., data8.pickle"
   ]
  },
  {
   "cell_type": "code",
   "execution_count": null,
   "id": "d5d61979-53b4-4f1b-bf0b-59738547c987",
   "metadata": {},
   "outputs": [],
   "source": []
  }
 ],
 "metadata": {
  "kernelspec": {
   "display_name": "Python 3 (ipykernel)",
   "language": "python",
   "name": "python3"
  },
  "language_info": {
   "codemirror_mode": {
    "name": "ipython",
    "version": 3
   },
   "file_extension": ".py",
   "mimetype": "text/x-python",
   "name": "python",
   "nbconvert_exporter": "python",
   "pygments_lexer": "ipython3",
   "version": "3.11.7"
  }
 },
 "nbformat": 4,
 "nbformat_minor": 5
}
